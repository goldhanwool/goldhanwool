{
 "cells": [
  {
   "cell_type": "markdown",
   "metadata": {},
   "source": [
    "### 환경세팅하기"
   ]
  },
  {
   "cell_type": "code",
   "execution_count": 414,
   "metadata": {},
   "outputs": [
    {
     "data": {
      "text/html": [
       "<div>\n",
       "<style scoped>\n",
       "    .dataframe tbody tr th:only-of-type {\n",
       "        vertical-align: middle;\n",
       "    }\n",
       "\n",
       "    .dataframe tbody tr th {\n",
       "        vertical-align: top;\n",
       "    }\n",
       "\n",
       "    .dataframe thead th {\n",
       "        text-align: right;\n",
       "    }\n",
       "</style>\n",
       "<table border=\"1\" class=\"dataframe\">\n",
       "  <thead>\n",
       "    <tr style=\"text-align: right;\">\n",
       "      <th></th>\n",
       "      <th>user_id</th>\n",
       "      <th>movie_id</th>\n",
       "      <th>rating</th>\n",
       "      <th>timestamp</th>\n",
       "    </tr>\n",
       "  </thead>\n",
       "  <tbody>\n",
       "    <tr>\n",
       "      <th>0</th>\n",
       "      <td>1</td>\n",
       "      <td>1193</td>\n",
       "      <td>5</td>\n",
       "      <td>978300760</td>\n",
       "    </tr>\n",
       "    <tr>\n",
       "      <th>1</th>\n",
       "      <td>1</td>\n",
       "      <td>661</td>\n",
       "      <td>3</td>\n",
       "      <td>978302109</td>\n",
       "    </tr>\n",
       "    <tr>\n",
       "      <th>2</th>\n",
       "      <td>1</td>\n",
       "      <td>914</td>\n",
       "      <td>3</td>\n",
       "      <td>978301968</td>\n",
       "    </tr>\n",
       "    <tr>\n",
       "      <th>3</th>\n",
       "      <td>1</td>\n",
       "      <td>3408</td>\n",
       "      <td>4</td>\n",
       "      <td>978300275</td>\n",
       "    </tr>\n",
       "    <tr>\n",
       "      <th>4</th>\n",
       "      <td>1</td>\n",
       "      <td>2355</td>\n",
       "      <td>5</td>\n",
       "      <td>978824291</td>\n",
       "    </tr>\n",
       "    <tr>\n",
       "      <th>5</th>\n",
       "      <td>1</td>\n",
       "      <td>1197</td>\n",
       "      <td>3</td>\n",
       "      <td>978302268</td>\n",
       "    </tr>\n",
       "    <tr>\n",
       "      <th>6</th>\n",
       "      <td>1</td>\n",
       "      <td>1287</td>\n",
       "      <td>5</td>\n",
       "      <td>978302039</td>\n",
       "    </tr>\n",
       "    <tr>\n",
       "      <th>7</th>\n",
       "      <td>1</td>\n",
       "      <td>2804</td>\n",
       "      <td>5</td>\n",
       "      <td>978300719</td>\n",
       "    </tr>\n",
       "    <tr>\n",
       "      <th>8</th>\n",
       "      <td>1</td>\n",
       "      <td>594</td>\n",
       "      <td>4</td>\n",
       "      <td>978302268</td>\n",
       "    </tr>\n",
       "    <tr>\n",
       "      <th>9</th>\n",
       "      <td>1</td>\n",
       "      <td>919</td>\n",
       "      <td>4</td>\n",
       "      <td>978301368</td>\n",
       "    </tr>\n",
       "  </tbody>\n",
       "</table>\n",
       "</div>"
      ],
      "text/plain": [
       "   user_id  movie_id  rating  timestamp\n",
       "0        1      1193       5  978300760\n",
       "1        1       661       3  978302109\n",
       "2        1       914       3  978301968\n",
       "3        1      3408       4  978300275\n",
       "4        1      2355       5  978824291\n",
       "5        1      1197       3  978302268\n",
       "6        1      1287       5  978302039\n",
       "7        1      2804       5  978300719\n",
       "8        1       594       4  978302268\n",
       "9        1       919       4  978301368"
      ]
     },
     "execution_count": 414,
     "metadata": {},
     "output_type": "execute_result"
    }
   ],
   "source": [
    "import pandas as pd\n",
    "import os\n",
    "\n",
    "rating_file_path = os.getenv('HOME') + '/aiffel/recommendata_iu/data/ml-1m/ratings.dat'\n",
    "ratings_cols = ['user_id', 'movie_id', 'rating', 'timestamp']\n",
    "ratings = pd.read_csv(rating_file_path, sep='::', names=ratings_cols, engine='python')\n",
    "orginal_data_size = len(ratings)\n",
    "ratings.head(10)"
   ]
  },
  {
   "cell_type": "code",
   "execution_count": 415,
   "metadata": {},
   "outputs": [
    {
     "name": "stdout",
     "output_type": "stream",
     "text": [
      "orginal_data_size):1000209,filtered_data_size:836478\n",
      "Ratio of Remaining Data is 83.63%\n"
     ]
    }
   ],
   "source": [
    "ratings = ratings[ratings['rating']>=3]\n",
    "filtered_data_size = len(ratings)\n",
    "\n",
    "print(f'orginal_data_size):{orginal_data_size},filtered_data_size:{filtered_data_size}')\n",
    "print(f'Ratio of Remaining Data is {filtered_data_size / orginal_data_size:.2%}')"
   ]
  },
  {
   "cell_type": "code",
   "execution_count": 416,
   "metadata": {},
   "outputs": [
    {
     "data": {
      "text/html": [
       "<div>\n",
       "<style scoped>\n",
       "    .dataframe tbody tr th:only-of-type {\n",
       "        vertical-align: middle;\n",
       "    }\n",
       "\n",
       "    .dataframe tbody tr th {\n",
       "        vertical-align: top;\n",
       "    }\n",
       "\n",
       "    .dataframe thead th {\n",
       "        text-align: right;\n",
       "    }\n",
       "</style>\n",
       "<table border=\"1\" class=\"dataframe\">\n",
       "  <thead>\n",
       "    <tr style=\"text-align: right;\">\n",
       "      <th></th>\n",
       "      <th>user_id</th>\n",
       "      <th>movie_id</th>\n",
       "      <th>play</th>\n",
       "      <th>timestamp</th>\n",
       "    </tr>\n",
       "  </thead>\n",
       "  <tbody>\n",
       "    <tr>\n",
       "      <th>0</th>\n",
       "      <td>1</td>\n",
       "      <td>1193</td>\n",
       "      <td>5</td>\n",
       "      <td>978300760</td>\n",
       "    </tr>\n",
       "    <tr>\n",
       "      <th>1</th>\n",
       "      <td>1</td>\n",
       "      <td>661</td>\n",
       "      <td>3</td>\n",
       "      <td>978302109</td>\n",
       "    </tr>\n",
       "    <tr>\n",
       "      <th>2</th>\n",
       "      <td>1</td>\n",
       "      <td>914</td>\n",
       "      <td>3</td>\n",
       "      <td>978301968</td>\n",
       "    </tr>\n",
       "    <tr>\n",
       "      <th>3</th>\n",
       "      <td>1</td>\n",
       "      <td>3408</td>\n",
       "      <td>4</td>\n",
       "      <td>978300275</td>\n",
       "    </tr>\n",
       "    <tr>\n",
       "      <th>4</th>\n",
       "      <td>1</td>\n",
       "      <td>2355</td>\n",
       "      <td>5</td>\n",
       "      <td>978824291</td>\n",
       "    </tr>\n",
       "    <tr>\n",
       "      <th>...</th>\n",
       "      <td>...</td>\n",
       "      <td>...</td>\n",
       "      <td>...</td>\n",
       "      <td>...</td>\n",
       "    </tr>\n",
       "    <tr>\n",
       "      <th>1000203</th>\n",
       "      <td>6040</td>\n",
       "      <td>1090</td>\n",
       "      <td>3</td>\n",
       "      <td>956715518</td>\n",
       "    </tr>\n",
       "    <tr>\n",
       "      <th>1000205</th>\n",
       "      <td>6040</td>\n",
       "      <td>1094</td>\n",
       "      <td>5</td>\n",
       "      <td>956704887</td>\n",
       "    </tr>\n",
       "    <tr>\n",
       "      <th>1000206</th>\n",
       "      <td>6040</td>\n",
       "      <td>562</td>\n",
       "      <td>5</td>\n",
       "      <td>956704746</td>\n",
       "    </tr>\n",
       "    <tr>\n",
       "      <th>1000207</th>\n",
       "      <td>6040</td>\n",
       "      <td>1096</td>\n",
       "      <td>4</td>\n",
       "      <td>956715648</td>\n",
       "    </tr>\n",
       "    <tr>\n",
       "      <th>1000208</th>\n",
       "      <td>6040</td>\n",
       "      <td>1097</td>\n",
       "      <td>4</td>\n",
       "      <td>956715569</td>\n",
       "    </tr>\n",
       "  </tbody>\n",
       "</table>\n",
       "<p>836478 rows × 4 columns</p>\n",
       "</div>"
      ],
      "text/plain": [
       "         user_id  movie_id  play  timestamp\n",
       "0              1      1193     5  978300760\n",
       "1              1       661     3  978302109\n",
       "2              1       914     3  978301968\n",
       "3              1      3408     4  978300275\n",
       "4              1      2355     5  978824291\n",
       "...          ...       ...   ...        ...\n",
       "1000203     6040      1090     3  956715518\n",
       "1000205     6040      1094     5  956704887\n",
       "1000206     6040       562     5  956704746\n",
       "1000207     6040      1096     4  956715648\n",
       "1000208     6040      1097     4  956715569\n",
       "\n",
       "[836478 rows x 4 columns]"
      ]
     },
     "execution_count": 416,
     "metadata": {},
     "output_type": "execute_result"
    }
   ],
   "source": [
    "ratings.rename(columns={'rating':'play'}, inplace=True)\n",
    "ratings"
   ]
  },
  {
   "cell_type": "code",
   "execution_count": 417,
   "metadata": {},
   "outputs": [
    {
     "data": {
      "text/html": [
       "<div>\n",
       "<style scoped>\n",
       "    .dataframe tbody tr th:only-of-type {\n",
       "        vertical-align: middle;\n",
       "    }\n",
       "\n",
       "    .dataframe tbody tr th {\n",
       "        vertical-align: top;\n",
       "    }\n",
       "\n",
       "    .dataframe thead th {\n",
       "        text-align: right;\n",
       "    }\n",
       "</style>\n",
       "<table border=\"1\" class=\"dataframe\">\n",
       "  <thead>\n",
       "    <tr style=\"text-align: right;\">\n",
       "      <th></th>\n",
       "      <th>movie_id</th>\n",
       "      <th>title</th>\n",
       "      <th>genre</th>\n",
       "    </tr>\n",
       "  </thead>\n",
       "  <tbody>\n",
       "    <tr>\n",
       "      <th>0</th>\n",
       "      <td>1</td>\n",
       "      <td>Toy Story (1995)</td>\n",
       "      <td>Animation|Children's|Comedy</td>\n",
       "    </tr>\n",
       "    <tr>\n",
       "      <th>1</th>\n",
       "      <td>2</td>\n",
       "      <td>Jumanji (1995)</td>\n",
       "      <td>Adventure|Children's|Fantasy</td>\n",
       "    </tr>\n",
       "    <tr>\n",
       "      <th>2</th>\n",
       "      <td>3</td>\n",
       "      <td>Grumpier Old Men (1995)</td>\n",
       "      <td>Comedy|Romance</td>\n",
       "    </tr>\n",
       "    <tr>\n",
       "      <th>3</th>\n",
       "      <td>4</td>\n",
       "      <td>Waiting to Exhale (1995)</td>\n",
       "      <td>Comedy|Drama</td>\n",
       "    </tr>\n",
       "    <tr>\n",
       "      <th>4</th>\n",
       "      <td>5</td>\n",
       "      <td>Father of the Bride Part II (1995)</td>\n",
       "      <td>Comedy</td>\n",
       "    </tr>\n",
       "    <tr>\n",
       "      <th>5</th>\n",
       "      <td>6</td>\n",
       "      <td>Heat (1995)</td>\n",
       "      <td>Action|Crime|Thriller</td>\n",
       "    </tr>\n",
       "    <tr>\n",
       "      <th>6</th>\n",
       "      <td>7</td>\n",
       "      <td>Sabrina (1995)</td>\n",
       "      <td>Comedy|Romance</td>\n",
       "    </tr>\n",
       "    <tr>\n",
       "      <th>7</th>\n",
       "      <td>8</td>\n",
       "      <td>Tom and Huck (1995)</td>\n",
       "      <td>Adventure|Children's</td>\n",
       "    </tr>\n",
       "    <tr>\n",
       "      <th>8</th>\n",
       "      <td>9</td>\n",
       "      <td>Sudden Death (1995)</td>\n",
       "      <td>Action</td>\n",
       "    </tr>\n",
       "    <tr>\n",
       "      <th>9</th>\n",
       "      <td>10</td>\n",
       "      <td>GoldenEye (1995)</td>\n",
       "      <td>Action|Adventure|Thriller</td>\n",
       "    </tr>\n",
       "  </tbody>\n",
       "</table>\n",
       "</div>"
      ],
      "text/plain": [
       "   movie_id                               title                         genre\n",
       "0         1                    Toy Story (1995)   Animation|Children's|Comedy\n",
       "1         2                      Jumanji (1995)  Adventure|Children's|Fantasy\n",
       "2         3             Grumpier Old Men (1995)                Comedy|Romance\n",
       "3         4            Waiting to Exhale (1995)                  Comedy|Drama\n",
       "4         5  Father of the Bride Part II (1995)                        Comedy\n",
       "5         6                         Heat (1995)         Action|Crime|Thriller\n",
       "6         7                      Sabrina (1995)                Comedy|Romance\n",
       "7         8                 Tom and Huck (1995)          Adventure|Children's\n",
       "8         9                 Sudden Death (1995)                        Action\n",
       "9        10                    GoldenEye (1995)     Action|Adventure|Thriller"
      ]
     },
     "execution_count": 417,
     "metadata": {},
     "output_type": "execute_result"
    }
   ],
   "source": [
    "movie_file_path=os.getenv('HOME')+'/aiffel/recommendata_iu/data/ml-1m/movies.dat'\n",
    "cols = ['movie_id','title','genre']\n",
    "movies = pd.read_csv(movie_file_path, sep='::', names=cols, engine='python')\n",
    "movies.head(10)"
   ]
  },
  {
   "cell_type": "markdown",
   "metadata": {},
   "source": [
    "### 2) 분석해 봅시다.\n",
    "\n",
    "#### ratings에 있는 유니크한 영화 개수\n",
    "#### rating에 있는 유니크한 사용자 수\n",
    "#### 가장 인기있는 영화 30개(인기순)"
   ]
  },
  {
   "cell_type": "code",
   "execution_count": 418,
   "metadata": {},
   "outputs": [
    {
     "data": {
      "text/plain": [
       "836478"
      ]
     },
     "execution_count": 418,
     "metadata": {},
     "output_type": "execute_result"
    }
   ],
   "source": [
    "ratings.movie_id.count()"
   ]
  },
  {
   "cell_type": "code",
   "execution_count": 419,
   "metadata": {},
   "outputs": [
    {
     "data": {
      "text/plain": [
       "3628"
      ]
     },
     "execution_count": 419,
     "metadata": {},
     "output_type": "execute_result"
    }
   ],
   "source": [
    "#영화개수\n",
    "ratings['movie_id'].nunique()"
   ]
  },
  {
   "cell_type": "code",
   "execution_count": 420,
   "metadata": {},
   "outputs": [
    {
     "data": {
      "text/plain": [
       "6039"
      ]
     },
     "execution_count": 420,
     "metadata": {},
     "output_type": "execute_result"
    }
   ],
   "source": [
    "#사용자 수\n",
    "ratings['user_id'].nunique()"
   ]
  },
  {
   "cell_type": "code",
   "execution_count": 421,
   "metadata": {
    "scrolled": true
   },
   "outputs": [
    {
     "data": {
      "text/plain": [
       "movie_id\n",
       "2858    3211\n",
       "260     2910\n",
       "1196    2885\n",
       "1210    2716\n",
       "2028    2561\n",
       "589     2509\n",
       "593     2498\n",
       "1198    2473\n",
       "1270    2460\n",
       "2571    2434\n",
       "480     2413\n",
       "2762    2385\n",
       "608     2371\n",
       "110     2314\n",
       "1580    2297\n",
       "527     2257\n",
       "1197    2252\n",
       "2396    2213\n",
       "1617    2210\n",
       "318     2194\n",
       "858     2167\n",
       "1265    2121\n",
       "1097    2102\n",
       "2997    2066\n",
       "2716    2051\n",
       "296     2030\n",
       "356     2022\n",
       "1240    2019\n",
       "1       2000\n",
       "457     1941\n",
       "Name: play, dtype: int64"
      ]
     },
     "execution_count": 421,
     "metadata": {},
     "output_type": "execute_result"
    }
   ],
   "source": [
    "#인기많은 영화 30개\n",
    "movie_count = ratings.groupby('movie_id')['play'].count()\n",
    "movie_count.sort_values(ascending=False).head(30)"
   ]
  },
  {
   "cell_type": "code",
   "execution_count": 422,
   "metadata": {},
   "outputs": [
    {
     "data": {
      "text/html": [
       "<div>\n",
       "<style scoped>\n",
       "    .dataframe tbody tr th:only-of-type {\n",
       "        vertical-align: middle;\n",
       "    }\n",
       "\n",
       "    .dataframe tbody tr th {\n",
       "        vertical-align: top;\n",
       "    }\n",
       "\n",
       "    .dataframe thead th {\n",
       "        text-align: right;\n",
       "    }\n",
       "</style>\n",
       "<table border=\"1\" class=\"dataframe\">\n",
       "  <thead>\n",
       "    <tr style=\"text-align: right;\">\n",
       "      <th></th>\n",
       "      <th>user_id</th>\n",
       "      <th>movie_id</th>\n",
       "      <th>play</th>\n",
       "      <th>timestamp</th>\n",
       "      <th>title</th>\n",
       "      <th>genre</th>\n",
       "    </tr>\n",
       "  </thead>\n",
       "  <tbody>\n",
       "    <tr>\n",
       "      <th>0</th>\n",
       "      <td>1.0</td>\n",
       "      <td>1193</td>\n",
       "      <td>5.0</td>\n",
       "      <td>978300760.0</td>\n",
       "      <td>One Flew Over the Cuckoo's Nest (1975)</td>\n",
       "      <td>Drama</td>\n",
       "    </tr>\n",
       "    <tr>\n",
       "      <th>1</th>\n",
       "      <td>2.0</td>\n",
       "      <td>1193</td>\n",
       "      <td>5.0</td>\n",
       "      <td>978298413.0</td>\n",
       "      <td>One Flew Over the Cuckoo's Nest (1975)</td>\n",
       "      <td>Drama</td>\n",
       "    </tr>\n",
       "    <tr>\n",
       "      <th>2</th>\n",
       "      <td>12.0</td>\n",
       "      <td>1193</td>\n",
       "      <td>4.0</td>\n",
       "      <td>978220179.0</td>\n",
       "      <td>One Flew Over the Cuckoo's Nest (1975)</td>\n",
       "      <td>Drama</td>\n",
       "    </tr>\n",
       "    <tr>\n",
       "      <th>3</th>\n",
       "      <td>15.0</td>\n",
       "      <td>1193</td>\n",
       "      <td>4.0</td>\n",
       "      <td>978199279.0</td>\n",
       "      <td>One Flew Over the Cuckoo's Nest (1975)</td>\n",
       "      <td>Drama</td>\n",
       "    </tr>\n",
       "    <tr>\n",
       "      <th>4</th>\n",
       "      <td>17.0</td>\n",
       "      <td>1193</td>\n",
       "      <td>5.0</td>\n",
       "      <td>978158471.0</td>\n",
       "      <td>One Flew Over the Cuckoo's Nest (1975)</td>\n",
       "      <td>Drama</td>\n",
       "    </tr>\n",
       "    <tr>\n",
       "      <th>...</th>\n",
       "      <td>...</td>\n",
       "      <td>...</td>\n",
       "      <td>...</td>\n",
       "      <td>...</td>\n",
       "      <td>...</td>\n",
       "      <td>...</td>\n",
       "    </tr>\n",
       "    <tr>\n",
       "      <th>836728</th>\n",
       "      <td>NaN</td>\n",
       "      <td>3829</td>\n",
       "      <td>NaN</td>\n",
       "      <td>NaN</td>\n",
       "      <td>Mad About Mambo (2000)</td>\n",
       "      <td>Comedy|Romance</td>\n",
       "    </tr>\n",
       "    <tr>\n",
       "      <th>836729</th>\n",
       "      <td>NaN</td>\n",
       "      <td>3856</td>\n",
       "      <td>NaN</td>\n",
       "      <td>NaN</td>\n",
       "      <td>Autumn Heart (1999)</td>\n",
       "      <td>Drama</td>\n",
       "    </tr>\n",
       "    <tr>\n",
       "      <th>836730</th>\n",
       "      <td>NaN</td>\n",
       "      <td>3891</td>\n",
       "      <td>NaN</td>\n",
       "      <td>NaN</td>\n",
       "      <td>Turn It Up (2000)</td>\n",
       "      <td>Crime|Drama</td>\n",
       "    </tr>\n",
       "    <tr>\n",
       "      <th>836731</th>\n",
       "      <td>NaN</td>\n",
       "      <td>3904</td>\n",
       "      <td>NaN</td>\n",
       "      <td>NaN</td>\n",
       "      <td>Uninvited Guest, An (2000)</td>\n",
       "      <td>Drama</td>\n",
       "    </tr>\n",
       "    <tr>\n",
       "      <th>836732</th>\n",
       "      <td>NaN</td>\n",
       "      <td>3907</td>\n",
       "      <td>NaN</td>\n",
       "      <td>NaN</td>\n",
       "      <td>Prince of Central Park, The (1999)</td>\n",
       "      <td>Drama</td>\n",
       "    </tr>\n",
       "  </tbody>\n",
       "</table>\n",
       "<p>836733 rows × 6 columns</p>\n",
       "</div>"
      ],
      "text/plain": [
       "        user_id  movie_id  play    timestamp  \\\n",
       "0           1.0      1193   5.0  978300760.0   \n",
       "1           2.0      1193   5.0  978298413.0   \n",
       "2          12.0      1193   4.0  978220179.0   \n",
       "3          15.0      1193   4.0  978199279.0   \n",
       "4          17.0      1193   5.0  978158471.0   \n",
       "...         ...       ...   ...          ...   \n",
       "836728      NaN      3829   NaN          NaN   \n",
       "836729      NaN      3856   NaN          NaN   \n",
       "836730      NaN      3891   NaN          NaN   \n",
       "836731      NaN      3904   NaN          NaN   \n",
       "836732      NaN      3907   NaN          NaN   \n",
       "\n",
       "                                         title           genre  \n",
       "0       One Flew Over the Cuckoo's Nest (1975)           Drama  \n",
       "1       One Flew Over the Cuckoo's Nest (1975)           Drama  \n",
       "2       One Flew Over the Cuckoo's Nest (1975)           Drama  \n",
       "3       One Flew Over the Cuckoo's Nest (1975)           Drama  \n",
       "4       One Flew Over the Cuckoo's Nest (1975)           Drama  \n",
       "...                                        ...             ...  \n",
       "836728                  Mad About Mambo (2000)  Comedy|Romance  \n",
       "836729                     Autumn Heart (1999)           Drama  \n",
       "836730                       Turn It Up (2000)     Crime|Drama  \n",
       "836731              Uninvited Guest, An (2000)           Drama  \n",
       "836732      Prince of Central Park, The (1999)           Drama  \n",
       "\n",
       "[836733 rows x 6 columns]"
      ]
     },
     "execution_count": 422,
     "metadata": {},
     "output_type": "execute_result"
    }
   ],
   "source": [
    "#movie_id와 title 데이터 프레임 합치기\n",
    "#모든 데이터 합치기. \n",
    "data_movie = pd.merge(left = ratings, right = movies, how = \"outer\", on = \"movie_id\")\n",
    "data_movie"
   ]
  },
  {
   "cell_type": "code",
   "execution_count": 423,
   "metadata": {
    "scrolled": true
   },
   "outputs": [],
   "source": [
    "#결측값 제거하기\n",
    "data_movie = data_movie.dropna()"
   ]
  },
  {
   "cell_type": "code",
   "execution_count": 424,
   "metadata": {
    "scrolled": true
   },
   "outputs": [
    {
     "data": {
      "text/plain": [
       "title\n",
       "American Beauty (1999)                                   3211\n",
       "Star Wars: Episode IV - A New Hope (1977)                2910\n",
       "Star Wars: Episode V - The Empire Strikes Back (1980)    2885\n",
       "Star Wars: Episode VI - Return of the Jedi (1983)        2716\n",
       "Saving Private Ryan (1998)                               2561\n",
       "                                                         ... \n",
       "Graduate, The (1967)                                     1223\n",
       "There's Something About Mary (1998)                      1223\n",
       "Chicken Run (2000)                                       1223\n",
       "Erin Brockovich (2000)                                   1223\n",
       "Rock, The (1996)                                         1213\n",
       "Name: play, Length: 100, dtype: int64"
      ]
     },
     "execution_count": 424,
     "metadata": {},
     "output_type": "execute_result"
    }
   ],
   "source": [
    "#movie name which is popular\n",
    "movie_popular = data_movie.groupby('title')['play'].count()\n",
    "movie_popular.sort_values(ascending=False).head(100)"
   ]
  },
  {
   "cell_type": "code",
   "execution_count": 425,
   "metadata": {},
   "outputs": [],
   "source": [
    "data_movie = data_movie.drop('timestamp', axis = 1)\n",
    "data_movie = data_movie.drop('genre', axis = 1)"
   ]
  },
  {
   "cell_type": "code",
   "execution_count": 426,
   "metadata": {},
   "outputs": [
    {
     "data": {
      "text/html": [
       "<div>\n",
       "<style scoped>\n",
       "    .dataframe tbody tr th:only-of-type {\n",
       "        vertical-align: middle;\n",
       "    }\n",
       "\n",
       "    .dataframe tbody tr th {\n",
       "        vertical-align: top;\n",
       "    }\n",
       "\n",
       "    .dataframe thead th {\n",
       "        text-align: right;\n",
       "    }\n",
       "</style>\n",
       "<table border=\"1\" class=\"dataframe\">\n",
       "  <thead>\n",
       "    <tr style=\"text-align: right;\">\n",
       "      <th></th>\n",
       "      <th>user_id</th>\n",
       "      <th>movie_id</th>\n",
       "      <th>play</th>\n",
       "      <th>title</th>\n",
       "    </tr>\n",
       "  </thead>\n",
       "  <tbody>\n",
       "    <tr>\n",
       "      <th>0</th>\n",
       "      <td>1.0</td>\n",
       "      <td>1193</td>\n",
       "      <td>5.0</td>\n",
       "      <td>one flew over the cuckoo's nest (1975)</td>\n",
       "    </tr>\n",
       "    <tr>\n",
       "      <th>1</th>\n",
       "      <td>2.0</td>\n",
       "      <td>1193</td>\n",
       "      <td>5.0</td>\n",
       "      <td>one flew over the cuckoo's nest (1975)</td>\n",
       "    </tr>\n",
       "    <tr>\n",
       "      <th>2</th>\n",
       "      <td>12.0</td>\n",
       "      <td>1193</td>\n",
       "      <td>4.0</td>\n",
       "      <td>one flew over the cuckoo's nest (1975)</td>\n",
       "    </tr>\n",
       "    <tr>\n",
       "      <th>3</th>\n",
       "      <td>15.0</td>\n",
       "      <td>1193</td>\n",
       "      <td>4.0</td>\n",
       "      <td>one flew over the cuckoo's nest (1975)</td>\n",
       "    </tr>\n",
       "    <tr>\n",
       "      <th>4</th>\n",
       "      <td>17.0</td>\n",
       "      <td>1193</td>\n",
       "      <td>5.0</td>\n",
       "      <td>one flew over the cuckoo's nest (1975)</td>\n",
       "    </tr>\n",
       "  </tbody>\n",
       "</table>\n",
       "</div>"
      ],
      "text/plain": [
       "   user_id  movie_id  play                                   title\n",
       "0      1.0      1193   5.0  one flew over the cuckoo's nest (1975)\n",
       "1      2.0      1193   5.0  one flew over the cuckoo's nest (1975)\n",
       "2     12.0      1193   4.0  one flew over the cuckoo's nest (1975)\n",
       "3     15.0      1193   4.0  one flew over the cuckoo's nest (1975)\n",
       "4     17.0      1193   5.0  one flew over the cuckoo's nest (1975)"
      ]
     },
     "execution_count": 426,
     "metadata": {},
     "output_type": "execute_result"
    }
   ],
   "source": [
    "#소문자로 만들기\n",
    "data_movie['title'] = data_movie['title'].str.lower()\n",
    "data_movie.head(5)"
   ]
  },
  {
   "cell_type": "markdown",
   "metadata": {},
   "source": [
    "#### 3) 내가 선호하는 영화를 5가지 골라서 rating에 추가해 줍시다."
   ]
  },
  {
   "cell_type": "code",
   "execution_count": 427,
   "metadata": {},
   "outputs": [],
   "source": [
    "my_favorite = ['21gram(2002)', 'innocence(2001)', 'mad max(2015)', 'jerry maquire(1998)', 'dark night(2005)']"
   ]
  },
  {
   "cell_type": "code",
   "execution_count": 428,
   "metadata": {
    "scrolled": false
   },
   "outputs": [
    {
     "data": {
      "text/html": [
       "<div>\n",
       "<style scoped>\n",
       "    .dataframe tbody tr th:only-of-type {\n",
       "        vertical-align: middle;\n",
       "    }\n",
       "\n",
       "    .dataframe tbody tr th {\n",
       "        vertical-align: top;\n",
       "    }\n",
       "\n",
       "    .dataframe thead th {\n",
       "        text-align: right;\n",
       "    }\n",
       "</style>\n",
       "<table border=\"1\" class=\"dataframe\">\n",
       "  <thead>\n",
       "    <tr style=\"text-align: right;\">\n",
       "      <th></th>\n",
       "      <th>user_id</th>\n",
       "      <th>play</th>\n",
       "      <th>movie_id</th>\n",
       "      <th>title</th>\n",
       "    </tr>\n",
       "  </thead>\n",
       "  <tbody>\n",
       "    <tr>\n",
       "      <th>0</th>\n",
       "      <td>6041</td>\n",
       "      <td>5</td>\n",
       "      <td>3953.0</td>\n",
       "      <td>21gram(2002)</td>\n",
       "    </tr>\n",
       "    <tr>\n",
       "      <th>1</th>\n",
       "      <td>6041</td>\n",
       "      <td>5</td>\n",
       "      <td>3954.0</td>\n",
       "      <td>innocence(2001)</td>\n",
       "    </tr>\n",
       "    <tr>\n",
       "      <th>2</th>\n",
       "      <td>6041</td>\n",
       "      <td>5</td>\n",
       "      <td>3955.0</td>\n",
       "      <td>mad max(2015)</td>\n",
       "    </tr>\n",
       "    <tr>\n",
       "      <th>3</th>\n",
       "      <td>6041</td>\n",
       "      <td>5</td>\n",
       "      <td>3956.0</td>\n",
       "      <td>jerry maquire(1998)</td>\n",
       "    </tr>\n",
       "    <tr>\n",
       "      <th>4</th>\n",
       "      <td>6041</td>\n",
       "      <td>5</td>\n",
       "      <td>3957.0</td>\n",
       "      <td>dark night(2005)</td>\n",
       "    </tr>\n",
       "  </tbody>\n",
       "</table>\n",
       "</div>"
      ],
      "text/plain": [
       "   user_id  play  movie_id                title\n",
       "0     6041     5    3953.0         21gram(2002)\n",
       "1     6041     5    3954.0      innocence(2001)\n",
       "2     6041     5    3955.0        mad max(2015)\n",
       "3     6041     5    3956.0  jerry maquire(1998)\n",
       "4     6041     5    3957.0     dark night(2005)"
      ]
     },
     "execution_count": 428,
     "metadata": {},
     "output_type": "execute_result"
    }
   ],
   "source": [
    "my_list = pd.DataFrame({'user_id': [6041]*5, 'play': [5]*5, 'movie_id':[3953.0, 3954.0, 3955.0, 3956.0, 3957.0 ] , 'title': my_favorite})\n",
    "my_list"
   ]
  },
  {
   "cell_type": "code",
   "execution_count": 429,
   "metadata": {},
   "outputs": [
    {
     "data": {
      "text/plain": [
       "[6041, 6041, 6041, 6041, 6041]"
      ]
     },
     "execution_count": 429,
     "metadata": {},
     "output_type": "execute_result"
    }
   ],
   "source": [
    "[6041]*5"
   ]
  },
  {
   "cell_type": "code",
   "execution_count": 430,
   "metadata": {
    "scrolled": true
   },
   "outputs": [
    {
     "data": {
      "text/html": [
       "<div>\n",
       "<style scoped>\n",
       "    .dataframe tbody tr th:only-of-type {\n",
       "        vertical-align: middle;\n",
       "    }\n",
       "\n",
       "    .dataframe tbody tr th {\n",
       "        vertical-align: top;\n",
       "    }\n",
       "\n",
       "    .dataframe thead th {\n",
       "        text-align: right;\n",
       "    }\n",
       "</style>\n",
       "<table border=\"1\" class=\"dataframe\">\n",
       "  <thead>\n",
       "    <tr style=\"text-align: right;\">\n",
       "      <th></th>\n",
       "      <th>user_id</th>\n",
       "      <th>movie_id</th>\n",
       "      <th>play</th>\n",
       "      <th>title</th>\n",
       "    </tr>\n",
       "  </thead>\n",
       "  <tbody>\n",
       "    <tr>\n",
       "      <th>836473</th>\n",
       "      <td>5851.0</td>\n",
       "      <td>3607.0</td>\n",
       "      <td>5.0</td>\n",
       "      <td>one little indian (1973)</td>\n",
       "    </tr>\n",
       "    <tr>\n",
       "      <th>836474</th>\n",
       "      <td>5854.0</td>\n",
       "      <td>3026.0</td>\n",
       "      <td>4.0</td>\n",
       "      <td>slaughterhouse (1987)</td>\n",
       "    </tr>\n",
       "    <tr>\n",
       "      <th>836475</th>\n",
       "      <td>5854.0</td>\n",
       "      <td>690.0</td>\n",
       "      <td>3.0</td>\n",
       "      <td>promise, the (versprechen, das) (1994)</td>\n",
       "    </tr>\n",
       "    <tr>\n",
       "      <th>836476</th>\n",
       "      <td>5938.0</td>\n",
       "      <td>2909.0</td>\n",
       "      <td>4.0</td>\n",
       "      <td>five wives, three secretaries and me (1998)</td>\n",
       "    </tr>\n",
       "    <tr>\n",
       "      <th>836477</th>\n",
       "      <td>5948.0</td>\n",
       "      <td>1360.0</td>\n",
       "      <td>5.0</td>\n",
       "      <td>identification of a woman (identificazione di ...</td>\n",
       "    </tr>\n",
       "    <tr>\n",
       "      <th>0</th>\n",
       "      <td>6041.0</td>\n",
       "      <td>3953.0</td>\n",
       "      <td>5.0</td>\n",
       "      <td>21gram(2002)</td>\n",
       "    </tr>\n",
       "    <tr>\n",
       "      <th>1</th>\n",
       "      <td>6041.0</td>\n",
       "      <td>3954.0</td>\n",
       "      <td>5.0</td>\n",
       "      <td>innocence(2001)</td>\n",
       "    </tr>\n",
       "    <tr>\n",
       "      <th>2</th>\n",
       "      <td>6041.0</td>\n",
       "      <td>3955.0</td>\n",
       "      <td>5.0</td>\n",
       "      <td>mad max(2015)</td>\n",
       "    </tr>\n",
       "    <tr>\n",
       "      <th>3</th>\n",
       "      <td>6041.0</td>\n",
       "      <td>3956.0</td>\n",
       "      <td>5.0</td>\n",
       "      <td>jerry maquire(1998)</td>\n",
       "    </tr>\n",
       "    <tr>\n",
       "      <th>4</th>\n",
       "      <td>6041.0</td>\n",
       "      <td>3957.0</td>\n",
       "      <td>5.0</td>\n",
       "      <td>dark night(2005)</td>\n",
       "    </tr>\n",
       "  </tbody>\n",
       "</table>\n",
       "</div>"
      ],
      "text/plain": [
       "        user_id  movie_id  play  \\\n",
       "836473   5851.0    3607.0   5.0   \n",
       "836474   5854.0    3026.0   4.0   \n",
       "836475   5854.0     690.0   3.0   \n",
       "836476   5938.0    2909.0   4.0   \n",
       "836477   5948.0    1360.0   5.0   \n",
       "0        6041.0    3953.0   5.0   \n",
       "1        6041.0    3954.0   5.0   \n",
       "2        6041.0    3955.0   5.0   \n",
       "3        6041.0    3956.0   5.0   \n",
       "4        6041.0    3957.0   5.0   \n",
       "\n",
       "                                                    title  \n",
       "836473                           one little indian (1973)  \n",
       "836474                              slaughterhouse (1987)  \n",
       "836475             promise, the (versprechen, das) (1994)  \n",
       "836476        five wives, three secretaries and me (1998)  \n",
       "836477  identification of a woman (identificazione di ...  \n",
       "0                                            21gram(2002)  \n",
       "1                                         innocence(2001)  \n",
       "2                                           mad max(2015)  \n",
       "3                                     jerry maquire(1998)  \n",
       "4                                        dark night(2005)  "
      ]
     },
     "execution_count": 430,
     "metadata": {},
     "output_type": "execute_result"
    }
   ],
   "source": [
    "if not data_movie.isin({'user_id':[6041]})['user_id'].any():  # user_id에 'young'이라는 데이터가 없다면\n",
    "    data_movie = data_movie.append(my_list)                           # 위에 임의로 만든 my_favorite 데이터를 추가해 줍니다. \n",
    "\n",
    "data_movie.tail(10)    "
   ]
  },
  {
   "cell_type": "code",
   "execution_count": 431,
   "metadata": {},
   "outputs": [
    {
     "data": {
      "text/plain": [
       "3957.0"
      ]
     },
     "execution_count": 431,
     "metadata": {},
     "output_type": "execute_result"
    }
   ],
   "source": [
    "data_movie['movie_id'].max()"
   ]
  },
  {
   "cell_type": "code",
   "execution_count": 432,
   "metadata": {},
   "outputs": [
    {
     "data": {
      "text/plain": [
       "False"
      ]
     },
     "execution_count": 432,
     "metadata": {},
     "output_type": "execute_result"
    }
   ],
   "source": [
    "3739 in movie_idx_to_unique.values()"
   ]
  },
  {
   "cell_type": "markdown",
   "metadata": {},
   "source": [
    "#### 4) CSR matrix를 직접 만들어 봅시다."
   ]
  },
  {
   "cell_type": "code",
   "execution_count": 433,
   "metadata": {},
   "outputs": [
    {
     "name": "stdout",
     "output_type": "stream",
     "text": [
      "{1193.0: 0, 661.0: 1, 914.0: 2, 3408.0: 3, 2355.0: 4, 1197.0: 5, 1287.0: 6, 2804.0: 7, 594.0: 8, 919.0: 9, 595.0: 10, 938.0: 11, 2398.0: 12, 2918.0: 13, 1035.0: 14, 2791.0: 15, 2687.0: 16, 2018.0: 17, 3105.0: 18, 2797.0: 19, 2321.0: 20, 720.0: 21, 1270.0: 22, 527.0: 23, 2340.0: 24, 48.0: 25, 1097.0: 26, 1721.0: 27, 1545.0: 28, 745.0: 29, 2294.0: 30, 3186.0: 31, 1566.0: 32, 588.0: 33, 1907.0: 34, 783.0: 35, 1836.0: 36, 1022.0: 37, 2762.0: 38, 150.0: 39, 1.0: 40, 1961.0: 41, 1962.0: 42, 2692.0: 43, 260.0: 44, 1028.0: 45, 1029.0: 46, 1207.0: 47, 2028.0: 48, 531.0: 49, 3114.0: 50, 608.0: 51, 1246.0: 52, 1357.0: 53, 3068.0: 54, 1537.0: 55, 647.0: 56, 2194.0: 57, 648.0: 58, 2268.0: 59, 2628.0: 60, 1103.0: 61, 2916.0: 62, 3468.0: 63, 1210.0: 64, 1792.0: 65, 1687.0: 66, 3578.0: 67, 2881.0: 68, 3030.0: 69, 1217.0: 70, 2126.0: 71, 3108.0: 72, 3035.0: 73, 1253.0: 74, 1610.0: 75, 292.0: 76, 2236.0: 77, 3071.0: 78, 368.0: 79, 1259.0: 80, 3147.0: 81, 1544.0: 82, 1293.0: 83, 1188.0: 84, 3255.0: 85, 3257.0: 86, 110.0: 87, 2278.0: 88, 2490.0: 89, 1834.0: 90, 3471.0: 91, 589.0: 92, 1690.0: 93, 3654.0: 94, 2852.0: 95, 1945.0: 96, 982.0: 97, 1873.0: 98, 2858.0: 99, 1225.0: 100, 515.0: 101, 442.0: 102, 2312.0: 103, 265.0: 104, 1408.0: 105, 1084.0: 106, 480.0: 107, 1442.0: 108, 2067.0: 109, 1265.0: 110, 1370.0: 111, 1801.0: 112, 1372.0: 113, 2353.0: 114, 3334.0: 115, 590.0: 116, 1196.0: 117, 1552.0: 118, 736.0: 119, 1198.0: 120, 593.0: 121, 2359.0: 122, 2717.0: 123, 2571.0: 124, 1917.0: 125, 2396.0: 126, 3735.0: 127, 1953.0: 128, 1597.0: 129, 3809.0: 130, 1954.0: 131, 1955.0: 132, 235.0: 133, 1124.0: 134, 1957.0: 135, 163.0: 136, 165.0: 137, 380.0: 138, 2501.0: 139, 349.0: 140, 457.0: 141, 1096.0: 142, 920.0: 143, 459.0: 144, 1527.0: 145, 3418.0: 146, 1385.0: 147, 3451.0: 148, 3095.0: 149, 780.0: 150, 498.0: 151, 2728.0: 152, 2002.0: 153, 1784.0: 154, 2943.0: 155, 2006.0: 156, 318.0: 157, 3678.0: 158, 1244.0: 159, 356.0: 160, 1247.0: 161, 3421.0: 162, 1394.0: 163, 3534.0: 164, 104.0: 165, 2735.0: 166, 1431.0: 167, 3868.0: 168, 1079.0: 169, 2997.0: 170, 1615.0: 171, 1291.0: 172, 653.0: 173, 2167.0: 174, 1580.0: 175, 1049.0: 176, 552.0: 177, 1266.0: 178, 733.0: 179, 1378.0: 180, 1379.0: 181, 3552.0: 182, 1304.0: 183, 2470.0: 184, 3168.0: 185, 3671.0: 186, 2871.0: 187, 2115.0: 188, 1968.0: 189, 1136.0: 190, 2081.0: 191, 2951.0: 192, 1214.0: 193, 1036.0: 194, 3702.0: 195, 2366.0: 196, 1387.0: 197, 1201.0: 198, 2947.0: 199, 1240.0: 200, 2987.0: 201, 2333.0: 202, 1175.0: 203, 39.0: 204, 2337.0: 205, 1535.0: 206, 1392.0: 207, 1466.0: 208, 1683.0: 209, 866.0: 210, 1684.0: 211, 2770.0: 212, 215.0: 213, 1759.0: 214, 506.0: 215, 1250.0: 216, 509.0: 217, 41.0: 218, 3799.0: 219, 47.0: 220, 2700.0: 221, 296.0: 222, 581.0: 223, 1617.0: 224, 728.0: 225, 299.0: 226, 2560.0: 227, 1909.0: 228, 224.0: 229, 229.0: 230, 3006.0: 231, 1046.0: 232, 50.0: 233, 1192.0: 234, 3081.0: 235, 377.0: 236, 3083.0: 237, 2427.0: 238, 2428.0: 239, 2282.0: 240, 1554.0: 241, 1912.0: 242, 2716.0: 243, 1485.0: 244, 2289.0: 245, 162.0: 246, 3016.0: 247, 1704.0: 248, 3163.0: 249, 2291.0: 250, 1635.0: 251, 2721.0: 252, 2723.0: 253, 1921.0: 254, 1923.0: 255, 2580.0: 256, 968.0: 257, 896.0: 258, 1788.0: 259, 176.0: 260, 461.0: 261, 1429.0: 262, 1715.0: 263, 1643.0: 264, 1719.0: 265, 1649.0: 266, 321.0: 267, 2013.0: 268, 1213.0: 269, 1794.0: 270, 2599.0: 271, 1500.0: 272, 2959.0: 273, 1509.0: 274, 1650.0: 275, 908.0: 276, 2384.0: 277, 1729.0: 278, 3476.0: 279, 2890.0: 280, 16.0: 281, 2029.0: 282, 194.0: 283, 551.0: 284, 1513.0: 285, 3046.0: 286, 2318.0: 287, 1517.0: 288, 1089.0: 289, 3260.0: 290, 913.0: 291, 1730.0: 292, 3409.0: 293, 1449.0: 294, 1732.0: 295, 1733.0: 296, 2390.0: 297, 1734.0: 298, 3267.0: 299, 3624.0: 300, 2395.0: 301, 2683.0: 302, 2759.0: 303, 994.0: 304, 1884.0: 305, 1885.0: 306, 272.0: 307, 348.0: 308, 2323.0: 309, 29.0: 310, 562.0: 311, 1095.0: 312, 1529.0: 313, 497.0: 314, 2908.0: 315, 3499.0: 316, 32.0: 317, 1243.0: 318, 1897.0: 319, 1171.0: 320, 3786.0: 321, 34.0: 322, 36.0: 323, 714.0: 324, 2406.0: 325, 1101.0: 326, 3717.0: 327, 1030.0: 328, 1688.0: 329, 364.0: 330, 3501.0: 331, 3072.0: 332, 3074.0: 333, 3508.0: 334, 1043.0: 335, 597.0: 336, 383.0: 337, 2506.0: 338, 3524.0: 339, 1569.0: 340, 2082.0: 341, 3600.0: 342, 3604.0: 343, 2802.0: 344, 3536.0: 345, 3753.0: 346, 3682.0: 347, 2017.0: 348, 3685.0: 349, 3610.0: 350, 1296.0: 351, 838.0: 352, 1007.0: 353, 1947.0: 354, 2966.0: 355, 266.0: 356, 17.0: 357, 3699.0: 358, 1441.0: 359, 1088.0: 360, 912.0: 361, 199.0: 362, 1806.0: 363, 2469.0: 364, 2100.0: 365, 1959.0: 366, 1380.0: 367, 569.0: 368, 1674.0: 369, 3565.0: 370, 861.0: 371, 3793.0: 372, 6.0: 373, 1997.0: 374, 1573.0: 375, 3107.0: 376, 474.0: 377, 1722.0: 378, 3256.0: 379, 1221.0: 380, 2336.0: 381, 288.0: 382, 3425.0: 383, 1393.0: 384, 1682.0: 385, 508.0: 386, 3213.0: 387, 42.0: 388, 650.0: 389, 3500.0: 390, 3148.0: 391, 2702.0: 392, 1476.0: 393, 1693.0: 394, 151.0: 395, 510.0: 396, 4.0: 397, 1621.0: 398, 3155.0: 399, 58.0: 400, 2712.0: 401, 1840.0: 402, 1916.0: 403, 1488.0: 404, 230.0: 405, 1120.0: 406, 161.0: 407, 1411.0: 408, 524.0: 409, 1059.0: 410, 454.0: 411, 1701.0: 412, 1274.0: 413, 741.0: 414, 1277.0: 415, 1639.0: 416, 3528.0: 417, 2297.0: 418, 3386.0: 419, 465.0: 420, 1711.0: 421, 538.0: 422, 2442.0: 423, 73.0: 424, 3246.0: 425, 105.0: 426, 253.0: 427, 3250.0: 428, 3252.0: 429, 476.0: 430, 1653.0: 431, 111.0: 432, 3259.0: 433, 1589.0: 434, 2023.0: 435, 14.0: 436, 337.0: 437, 2314.0: 438, 269.0: 439, 555.0: 440, 1660.0: 441, 3265.0: 442, 1735.0: 443, 3481.0: 444, 2686.0: 445, 2688.0: 446, 345.0: 447, 24.0: 448, 25.0: 449, 2324.0: 450, 2329.0: 451, 2541.0: 452, 1673.0: 453, 1678.0: 454, 1027.0: 455, 2699.0: 456, 282.0: 457, 367.0: 458, 223.0: 459, 3298.0: 460, 3948.0: 461, 805.0: 462, 3510.0: 463, 3513.0: 464, 300.0: 465, 1777.0: 466, 1343.0: 467, 3160.0: 468, 529.0: 469, 1060.0: 470, 1356.0: 471, 1358.0: 472, 3178.0: 473, 3751.0: 474, 2302.0: 475, 1148.0: 476, 2166.0: 477, 3253.0: 478, 1584.0: 479, 1223.0: 480, 1446.0: 481, 3623.0: 482, 778.0: 483, 1669.0: 484, 412.0: 485, 3916.0: 486, 1233.0: 487, 1307.0: 488, 3270.0: 489, 1310.0: 490, 428.0: 491, 2622.0: 492, 3358.0: 493, 3359.0: 494, 1756.0: 495, 1320.0: 496, 2124.0: 497, 2125.0: 498, 2054.0: 499, 1252.0: 500, 1254.0: 501, 3869.0: 502, 1256.0: 503, 1257.0: 504, 1831.0: 505, 3363.0: 506, 586.0: 507, 587.0: 508, 3438.0: 509, 3296.0: 510, 2496.0: 511, 2497.0: 512, 2.0: 513, 2498.0: 514, 153.0: 515, 7.0: 516, 2133.0: 517, 2135.0: 518, 2136.0: 519, 2137.0: 520, 802.0: 521, 2138.0: 522, 1409.0: 523, 1339.0: 524, 1269.0: 525, 2640.0: 526, 592.0: 527, 596.0: 528, 3447.0: 529, 1918.0: 530, 2140.0: 531, 2072.0: 532, 1271.0: 533, 1345.0: 534, 2077.0: 535, 2078.0: 536, 1276.0: 537, 743.0: 538, 671.0: 539, 1278.0: 540, 1927.0: 541, 2657.0: 542, 3388.0: 543, 316.0: 544, 317.0: 545, 248.0: 546, 2080.0: 547, 1282.0: 548, 1283.0: 549, 750.0: 550, 2087.0: 551, 1286.0: 552, 3608.0: 553, 2662.0: 554, 3466.0: 555, 3100.0: 556, 2300.0: 557, 329.0: 558, 3034.0: 559, 186.0: 560, 2161.0: 561, 3037.0: 562, 2090.0: 563, 3039.0: 564, 2091.0: 565, 902.0: 566, 830.0: 567, 2093.0: 568, 904.0: 569, 2094.0: 570, 1292.0: 571, 2096.0: 572, 1294.0: 573, 765.0: 574, 2746.0: 575, 1009.0: 576, 1948.0: 577, 333.0: 578, 339.0: 579, 2316.0: 580, 1371.0: 581, 2174.0: 582, 1374.0: 583, 1375.0: 584, 915.0: 585, 1376.0: 586, 1377.0: 587, 916.0: 588, 918.0: 589, 1012.0: 590, 2826.0: 591, 3629.0: 592, 1015.0: 593, 1016.0: 594, 1019.0: 595, 3489.0: 596, 344.0: 597, 275.0: 598, 2252.0: 599, 277.0: 600, 923.0: 601, 924.0: 602, 3701.0: 603, 926.0: 604, 1020.0: 605, 784.0: 606, 858.0: 607, 1023.0: 608, 1025.0: 609, 2693.0: 610, 1967.0: 611, 351.0: 612, 357.0: 613, 2405.0: 614, 2407.0: 615, 2193.0: 616, 1031.0: 617, 1104.0: 618, 1032.0: 619, 435.0: 620, 943.0: 621, 3723.0: 622, 1042.0: 623, 370.0: 624, 2423.0: 625, 2424.0: 626, 3086.0: 627, 3087.0: 628, 953.0: 629, 954.0: 630, 3591.0: 631, 2863.0: 632, 3593.0: 633, 1125.0: 634, 520.0: 635, 3668.0: 636, 1127.0: 637, 2795.0: 638, 1129.0: 639, 2431.0: 640, 62.0: 641, 3309.0: 642, 1633.0: 643, 2436.0: 644, 3097.0: 645, 3099.0: 646, 3812.0: 647, 2000.0: 648, 963.0: 649, 2001.0: 650, 1200.0: 651, 2003.0: 652, 1203.0: 653, 2005.0: 654, 1204.0: 655, 969.0: 656, 2872.0: 657, 3675.0: 658, 2946.0: 659, 898.0: 660, 2009.0: 661, 2874.0: 662, 899.0: 663, 1135.0: 664, 2948.0: 665, 539.0: 666, 2371.0: 667, 3247.0: 668, 3174.0: 669, 3175.0: 670, 2375.0: 671, 2378.0: 672, 971.0: 673, 2011.0: 674, 2012.0: 675, 2015.0: 676, 1215.0: 677, 1073.0: 678, 3688.0: 679, 541.0: 680, 542.0: 681, 543.0: 682, 3254.0: 683, 2453.0: 684, 2529.0: 685, 1654.0: 686, 1583.0: 687, 3189.0: 688, 116.0: 689, 1586.0: 690, 2021.0: 691, 1220.0: 692, 1080.0: 693, 2967.0: 694, 2968.0: 695, 2530.0: 696, 3264.0: 697, 3194.0: 698, 2393.0: 699, 3198.0: 700, 2399.0: 701, 1302.0: 702, 1230.0: 703, 2105.0: 704, 2033.0: 705, 2108.0: 706, 1234.0: 707, 2109.0: 708, 1091.0: 709, 2617.0: 710, 3347.0: 711, 203.0: 712, 1676.0: 713, 208.0: 714, 2111.0: 715, 2040.0: 716, 2041.0: 717, 3928.0: 718, 2043.0: 719, 2045.0: 720, 2046.0: 721, 2047.0: 722, 2049.0: 723, 1753.0: 724, 216.0: 725, 2710.0: 726, 663.0: 727, 3448.0: 728, 231.0: 729, 2076.0: 730, 246.0: 731, 249.0: 732, 1288.0: 733, 764.0: 734, 342.0: 735, 2325.0: 736, 3129.0: 737, 2766.0: 738, 2335.0: 739, 3146.0: 740, 1546.0: 741, 441.0: 742, 1563.0: 743, 1498.0: 744, 3176.0: 745, 3755.0: 746, 2883.0: 747, 88.0: 748, 481.0: 749, 2539.0: 750, 2106.0: 751, 1747.0: 752, 3362.0: 753, 813.0: 754, 3897.0: 755, 3658.0: 756, 1641.0: 757, 1303.0: 758, 999.0: 759, 3785.0: 760, 1331.0: 761, 1262.0: 762, 2641.0: 763, 3036.0: 764, 3479.0: 765, 10.0: 766, 2822.0: 767, 21.0: 768, 421.0: 769, 434.0: 770, 1479.0: 771, 517.0: 772, 952.0: 773, 3745.0: 774, 2370.0: 775, 1216.0: 776, 2528.0: 777, 1587.0: 778, 3269.0: 779, 3417.0: 780, 2616.0: 781, 3354.0: 782, 1263.0: 783, 2731.0: 784, 3033.0: 785, 2243.0: 786, 2920.0: 787, 2976.0: 788, 2485.0: 789, 141.0: 790, 2058.0: 791, 3798.0: 792, 2706.0: 793, 2707.0: 794, 2567.0: 795, 3005.0: 796, 2719.0: 797, 748.0: 798, 2724.0: 799, 2581.0: 800, 1422.0: 801, 3461.0: 802, 2598.0: 803, 257.0: 804, 832.0: 805, 762.0: 806, 2676.0: 807, 3113.0: 808, 1883.0: 809, 2188.0: 810, 2763.0: 811, 788.0: 812, 2764.0: 813, 2694.0: 814, 1892.0: 815, 1608.0: 816, 1396.0: 817, 2840.0: 818, 2841.0: 819, 3646.0: 820, 500.0: 821, 3145.0: 822, 2272.0: 823, 2273.0: 824, 1619.0: 825, 1625.0: 826, 1487.0: 827, 1702.0: 828, 2433.0: 829, 1644.0: 830, 1645.0: 831, 2882.0: 832, 2389.0: 833, 2961.0: 834, 553.0: 835, 628.0: 836, 2605.0: 837, 1804.0: 838, 1805.0: 839, 2391.0: 840, 2394.0: 841, 1092.0: 842, 1810.0: 843, 1672.0: 844, 3004.0: 845, 1911.0: 846, 3516.0: 847, 2643.0: 848, 2572.0: 849, 2805.0: 850, 2761.0: 851, 2369.0: 852, 2888.0: 853, 2975.0: 854, 1179.0: 855, 2553.0: 856, 2554.0: 857, 3932.0: 858, 3863.0: 859, 1185.0: 860, 3503.0: 861, 3879.0: 862, 3375.0: 863, 164.0: 864, 3527.0: 865, 3457.0: 866, 319.0: 867, 247.0: 868, 1428.0: 869, 1284.0: 870, 2660.0: 871, 2661.0: 872, 2663.0: 873, 2664.0: 874, 3032.0: 875, 2311.0: 876, 2173.0: 877, 198.0: 878, 2752.0: 879, 340.0: 880, 3700.0: 881, 3703.0: 882, 2901.0: 883, 3704.0: 884, 30.0: 885, 1601.0: 886, 3713.0: 887, 2912.0: 888, 3576.0: 889, 293.0: 890, 3070.0: 891, 1614.0: 892, 2346.0: 893, 942.0: 894, 446.0: 895, 1624.0: 896, 3156.0: 897, 2287.0: 898, 2288.0: 899, 3662.0: 900, 3594.0: 901, 3300.0: 902, 3744.0: 903, 1206.0: 904, 1069.0: 905, 76.0: 906, 2377.0: 907, 2010.0: 908, 3827.0: 909, 610.0: 910, 1077.0: 911, 2527.0: 912, 2455.0: 913, 3696.0: 914, 2600.0: 915, 2533.0: 916, 1594.0: 917, 1301.0: 918, 707.0: 919, 2613.0: 920, 2542.0: 921, 496.0: 922, 2549.0: 923, 1748.0: 924, 3927.0: 925, 2116.0: 926, 2117.0: 927, 2985.0: 928, 2989.0: 929, 2123.0: 930, 2052.0: 931, 2993.0: 932, 2701.0: 933, 222.0: 934, 158.0: 935, 2139.0: 936, 2573.0: 937, 302.0: 938, 232.0: 939, 2141.0: 940, 2142.0: 941, 2143.0: 942, 2145.0: 943, 1344.0: 944, 1275.0: 945, 3526.0: 946, 313.0: 947, 2153.0: 948, 2083.0: 949, 2085.0: 950, 2089.0: 951, 2739.0: 952, 3396.0: 953, 3397.0: 954, 3398.0: 955, 3399.0: 956, 327.0: 957, 1876.0: 958, 261.0: 959, 262.0: 960, 2248.0: 961, 1013.0: 962, 1956.0: 963, 26.0: 964, 3705.0: 965, 3633.0: 966, 3635.0: 967, 1960.0: 968, 3639.0: 969, 3494.0: 970, 353.0: 971, 1391.0: 972, 1033.0: 973, 44.0: 974, 2414.0: 975, 2348.0: 976, 940.0: 977, 466.0: 978, 2373.0: 979, 2019.0: 980, 616.0: 981, 475.0: 982, 86.0: 983, 2020.0: 984, 3698.0: 985, 1094.0: 986, 493.0: 987, 1242.0: 988, 3930.0: 989, 1321.0: 990, 2990.0: 991, 2991.0: 992, 1258.0: 993, 2633.0: 994, 2638.0: 995, 2568.0: 996, 1407.0: 997, 1334.0: 998, 1261.0: 999, 2064.0: 1000, 2644.0: 1001, 2574.0: 1002, 1772.0: 1003, 2648.0: 1004, 1340.0: 1005, 3889.0: 1006, 1350.0: 1007, 330.0: 1008, 785.0: 1009, 3638.0: 1010, 2836.0: 1011, 420.0: 1012, 3208.0: 1013, 2195.0: 1014, 1974.0: 1015, 1982.0: 1016, 2789.0: 1017, 3082.0: 1018, 2860.0: 1019, 2790.0: 1020, 3596.0: 1021, 1994.0: 1022, 2502.0: 1023, 2296.0: 1024, 2949.0: 1025, 2376.0: 1026, 3752.0: 1027, 1219.0: 1028, 2454.0: 1029, 1090.0: 1030, 3273.0: 1031, 1694.0: 1032, 1468.0: 1033, 70.0: 1034, 585.0: 1035, 3000.0: 1036, 2800.0: 1037, 3268.0: 1038, 1754.0: 1039, 1689.0: 1040, 2122.0: 1041, 1405.0: 1042, 3017.0: 1043, 818.0: 1044, 3450.0: 1045, 678.0: 1046, 3020.0: 1047, 173.0: 1048, 2150.0: 1049, 1425.0: 1050, 180.0: 1051, 1799.0: 1052, 2163.0: 1053, 910.0: 1054, 2249.0: 1055, 771.0: 1056, 849.0: 1057, 3120.0: 1058, 2320.0: 1059, 3052.0: 1060, 2189.0: 1061, 429.0: 1062, 1606.0: 1063, 2263.0: 1064, 2265.0: 1065, 1034.0: 1066, 3210.0: 1067, 2413.0: 1068, 2416.0: 1069, 1047.0: 1070, 3660.0: 1071, 3661.0: 1072, 2792.0: 1073, 2794.0: 1074, 65.0: 1075, 2004.0: 1076, 1205.0: 1077, 532.0: 1078, 3243.0: 1079, 2374.0: 1080, 2450.0: 1081, 81.0: 1082, 3258.0: 1083, 1222.0: 1084, 485.0: 1085, 95.0: 1086, 3917.0: 1087, 708.0: 1088, 2478.0: 1089, 1249.0: 1090, 3505.0: 1091, 1189.0: 1092, 3507.0: 1093, 3435.0: 1094, 2202.0: 1095, 1267.0: 1096, 1199.0: 1097, 1845.0: 1098, 3952.0: 1099, 2148.0: 1100, 2149.0: 1101, 2722.0: 1102, 674.0: 1103, 2726.0: 1104, 2808.0: 1105, 3104.0: 1106, 2160.0: 1107, 187.0: 1108, 903.0: 1109, 3618.0: 1110, 3474.0: 1111, 2241.0: 1112, 3044.0: 1113, 196.0: 1114, 911.0: 1115, 3551.0: 1116, 3556.0: 1117, 1958.0: 1118, 2322.0: 1119, 1388.0: 1120, 3708.0: 1121, 1965.0: 1122, 2409.0: 1123, 2917.0: 1124, 431.0: 1125, 2410.0: 1126, 45.0: 1127, 52.0: 1128, 951.0: 1129, 60.0: 1130, 3740.0: 1131, 2511.0: 1132, 1212.0: 1133, 1218.0: 1134, 3338.0: 1135, 125.0: 1136, 3770.0: 1137, 1306.0: 1138, 2973.0: 1139, 1313.0: 1140, 2118.0: 1141, 2119.0: 1142, 3424.0: 1143, 3361.0: 1144, 2132.0: 1145, 303.0: 1146, 2144.0: 1147, 175.0: 1148, 2734.0: 1149, 2301.0: 1150, 2671.0: 1151, 2245.0: 1152, 2757.0: 1153, 425.0: 1154, 2915.0: 1155, 2352.0: 1156, 1057.0: 1157, 468.0: 1158, 1663.0: 1159, 2709.0: 1160, 157.0: 1161, 737.0: 1162, 688.0: 1163, 1373.0: 1164, 2253.0: 1165, 546.0: 1166, 473.0: 1167, 3422.0: 1168, 3423.0: 1169, 719.0: 1170, 3426.0: 1171, 2558.0: 1172, 217.0: 1173, 724.0: 1174, 3502.0: 1175, 1186.0: 1176, 3506.0: 1177, 3360.0: 1178, 1833.0: 1179, 5.0: 1180, 804.0: 1181, 3441.0: 1182, 160.0: 1183, 234.0: 1184, 1779.0: 1185, 236.0: 1186, 237.0: 1187, 168.0: 1188, 2146.0: 1189, 3525.0: 1190, 315.0: 1191, 2154.0: 1192, 1285.0: 1193, 3101.0: 1194, 252.0: 1195, 185.0: 1196, 3614.0: 1197, 3543.0: 1198, 694.0: 1199, 11.0: 1200, 3040.0: 1201, 2313.0: 1202, 195.0: 1203, 1880.0: 1204, 416.0: 1205, 1888.0: 1206, 276.0: 1207, 278.0: 1208, 3056.0: 1209, 2259.0: 1210, 1457.0: 1211, 852.0: 1212, 3707.0: 1213, 2906.0: 1214, 1966.0: 1215, 350.0: 1216, 424.0: 1217, 3130.0: 1218, 2403.0: 1219, 3206.0: 1220, 2404.0: 1221, 3063.0: 1222, 2261.0: 1223, 2262.0: 1224, 2266.0: 1225, 2269.0: 1226, 2779.0: 1227, 361.0: 1228, 2411.0: 1229, 1541.0: 1230, 3219.0: 1231, 3584.0: 1232, 511.0: 1233, 440.0: 1234, 2420.0: 1235, 3152.0: 1236, 378.0: 1237, 2429.0: 1238, 3590.0: 1239, 381.0: 1240, 3308.0: 1241, 3098.0: 1242, 2942.0: 1243, 2875.0: 1244, 605.0: 1245, 609.0: 1246, 463.0: 1247, 1713.0: 1248, 1640.0: 1249, 467.0: 1250, 74.0: 1251, 3173.0: 1252, 3249.0: 1253, 2447.0: 1254, 2950.0: 1255, 2014.0: 1256, 3684.0: 1257, 3686.0: 1258, 540.0: 1259, 3689.0: 1260, 471.0: 1261, 472.0: 1262, 2387.0: 1263, 118.0: 1264, 3835.0: 1265, 3690.0: 1266, 550.0: 1267, 3331.0: 1268, 3261.0: 1269, 3263.0: 1270, 2463.0: 1271, 94.0: 1272, 1593.0: 1273, 491.0: 1274, 3274.0: 1275, 2473.0: 1276, 499.0: 1277, 207.0: 1278, 1248.0: 1279, 1180.0: 1280, 3364.0: 1281, 2066.0: 1282, 3469.0: 1283, 905.0: 1284, 922.0: 1285, 2186.0: 1286, 930.0: 1287, 947.0: 1288, 3730.0: 1289, 955.0: 1290, 3683.0: 1291, 1237.0: 1292, 2550.0: 1293, 901.0: 1294, 906.0: 1295, 3548.0: 1296, 334.0: 1297, 846.0: 1298, 928.0: 1299, 1208.0: 1300, 1224.0: 1301, 3370.0: 1302, 1785.0: 1303, 3102.0: 1304, 3062.0: 1305, 3726.0: 1306, 2363.0: 1307, 2944.0: 1308, 3836.0: 1309, 3769.0: 1310, 1085.0: 1311, 3405.0: 1312, 2534.0: 1313, 3197.0: 1314, 494.0: 1315, 1176.0: 1316, 3943.0: 1317, 3949.0: 1318, 1922.0: 1319, 3554.0: 1320, 1041.0: 1321, 1657.0: 1322, 2544.0: 1323, 2208.0: 1324, 2065.0: 1325, 3022.0: 1326, 3028.0: 1327, 1281.0: 1328, 3462.0: 1329, 1937.0: 1330, 1297.0: 1331, 2747.0: 1332, 3200.0: 1333, 933.0: 1334, 934.0: 1335, 946.0: 1336, 2922.0: 1337, 3088.0: 1338, 957.0: 1339, 2935.0: 1340, 2936.0: 1341, 3096.0: 1342, 961.0: 1343, 2870.0: 1344, 3244.0: 1345, 1235.0: 1346, 3341.0: 1347, 3429.0: 1348, 28.0: 1349, 3079.0: 1350, 3787.0: 1351, 1680.0: 1352, 3504.0: 1353, 2637.0: 1354, 2565.0: 1355, 154.0: 1356, 2206.0: 1357, 1333.0: 1358, 2646.0: 1359, 2647.0: 1360, 2649.0: 1361, 2070.0: 1362, 3019.0: 1363, 2071.0: 1364, 1272.0: 1365, 1348.0: 1366, 2650.0: 1367, 2159.0: 1368, 1367.0: 1369, 1299.0: 1370, 3546.0: 1371, 2674.0: 1372, 1946.0: 1373, 3110.0: 1374, 3111.0: 1375, 2176.0: 1376, 2178.0: 1377, 1017.0: 1378, 3121.0: 1379, 2183.0: 1380, 3498.0: 1381, 3203.0: 1382, 3204.0: 1383, 1464.0: 1384, 931.0: 1385, 932.0: 1386, 2344.0: 1387, 2921.0: 1388, 949.0: 1389, 3727.0: 1390, 2926.0: 1391, 3587.0: 1392, 3733.0: 1393, 3599.0: 1394, 3230.0: 1395, 3167.0: 1396, 3169.0: 1397, 2941.0: 1398, 1130.0: 1399, 1061.0: 1400, 3676.0: 1401, 1717.0: 1402, 3681.0: 1403, 2459.0: 1404, 3760.0: 1405, 1152.0: 1406, 1227.0: 1407, 1086.0: 1408, 2467.0: 1409, 1300.0: 1410, 3844.0: 1411, 1231.0: 1412, 3340.0: 1413, 2612.0: 1414, 565.0: 1415, 3271.0: 1416, 2983.0: 1417, 1835.0: 1418, 2134.0: 1419, 837.0: 1420, 1895.0: 1421, 3712.0: 1422, 1100.0: 1423, 2796.0: 1424, 2432.0: 1425, 2379.0: 1426, 2380.0: 1427, 1251.0: 1428, 2708.0: 1429, 3365.0: 1430, 155.0: 1431, 3871.0: 1432, 800.0: 1433, 803.0: 1434, 1264.0: 1435, 2575.0: 1436, 1419.0: 1437, 824.0: 1438, 2088.0: 1439, 2732.0: 1440, 3467.0: 1441, 2303.0: 1442, 2238.0: 1443, 2239.0: 1444, 3473.0: 1445, 3549.0: 1446, 1949.0: 1447, 2171.0: 1448, 2682.0: 1449, 3566.0: 1450, 3567.0: 1451, 1964.0: 1452, 3060.0: 1453, 2331.0: 1454, 3061.0: 1455, 2919.0: 1456, 3649.0: 1457, 945.0: 1458, 2932.0: 1459, 3091.0: 1460, 965.0: 1461, 3320.0: 1462, 1078.0: 1463, 2385.0: 1464, 3831.0: 1465, 1081.0: 1466, 2969.0: 1467, 123.0: 1468, 1162.0: 1469, 3852.0: 1470, 1172.0: 1471, 3788.0: 1472, 1827.0: 1473, 144.0: 1474, 1191.0: 1475, 3512.0: 1476, 233.0: 1477, 172.0: 1478, 178.0: 1479, 2155.0: 1480, 256.0: 1481, 1295.0: 1482, 1875.0: 1483, 3480.0: 1484, 2250.0: 1485, 3706.0: 1486, 1963.0: 1487, 1603.0: 1488, 2334.0: 1489, 3066.0: 1490, 1395.0: 1491, 2774.0: 1492, 507.0: 1493, 3142.0: 1494, 2418.0: 1495, 1616.0: 1496, 449.0: 1497, 1480.0: 1498, 3301.0: 1499, 3821.0: 1500, 1147.0: 1501, 3763.0: 1502, 3697.0: 1503, 556.0: 1504, 3196.0: 1505, 2972.0: 1506, 2540.0: 1507, 3159.0: 1508, 1183.0: 1509, 2059.0: 1510, 1353.0: 1511, 2677.0: 1512, 13.0: 1513, 1894.0: 1514, 1463.0: 1515, 46.0: 1516, 1620.0: 1517, 455.0: 1518, 2772.0: 1519, 2027.0: 1520, 2669.0: 1521, 2748.0: 1522, 3628.0: 1523, 3643.0: 1524, 2430.0: 1525, 897.0: 1526, 976.0: 1527, 3406.0: 1528, 3412.0: 1529, 2471.0: 1530, 1658.0: 1531, 2546.0: 1532, 3937.0: 1533, 2642.0: 1534, 3519.0: 1535, 1518.0: 1536, 3555.0: 1537, 2681.0: 1538, 2408.0: 1539, 1037.0: 1540, 3153.0: 1541, 379.0: 1542, 3802.0: 1543, 3807.0: 1544, 3758.0: 1545, 2520.0: 1546, 2456.0: 1547, 1590.0: 1548, 2034.0: 1549, 3780.0: 1550, 2986.0: 1551, 2097.0: 1552, 3612.0: 1553, 1952.0: 1554, 2846.0: 1555, 1064.0: 1556, 107.0: 1557, 3251.0: 1558, 3771.0: 1559, 2110.0: 1560, 1821.0: 1561, 3284.0: 1562, 2629.0: 1563, 140.0: 1564, 218.0: 1565, 3873.0: 1566, 3874.0: 1567, 2738.0: 1568, 900.0: 1569, 2168.0: 1570, 909.0: 1571, 691.0: 1572, 1014.0: 1573, 1018.0: 1574, 289.0: 1575, 1390.0: 1576, 2339.0: 1577, 937.0: 1578, 3076.0: 1579, 371.0: 1580, 447.0: 1581, 2426.0: 1582, 2356.0: 1583, 3814.0: 1584, 2443.0: 1585, 3248.0: 1586, 1226.0: 1587, 1083.0: 1588, 489.0: 1589, 2468.0: 1590, 1666.0: 1591, 492.0: 1592, 3280.0: 1593, 3939.0: 1594, 1327.0: 1595, 1347.0: 1596, 1969.0: 1597, 2338.0: 1598, 1970.0: 1599, 1971.0: 1600, 1972.0: 1601, 1973.0: 1602, 1975.0: 1603, 1976.0: 1604, 1977.0: 1605, 1978.0: 1606, 1979.0: 1607, 366.0: 1608, 1980.0: 1609, 1981.0: 1610, 1983.0: 1611, 1984.0: 1612, 1985.0: 1613, 1986.0: 1614, 891.0: 1615, 2107.0: 1616, 575.0: 1617, 599.0: 1618, 836.0: 1619, 3051.0: 1620, 1459.0: 1621, 786.0: 1622, 2401.0: 1623, 1461.0: 1624, 1398.0: 1625, 3404.0: 1626, 2531.0: 1627, 2532.0: 1628, 991.0: 1629, 996.0: 1630, 1762.0: 1631, 170.0: 1632, 1931.0: 1633, 1797.0: 1634, 3615.0: 1635, 1944.0: 1636, 3477.0: 1637, 336.0: 1638, 1010.0: 1639, 3483.0: 1640, 413.0: 1641, 346.0: 1642, 423.0: 1643, 280.0: 1644, 355.0: 1645, 2857.0: 1646, 513.0: 1647, 516.0: 1648, 372.0: 1649, 376.0: 1650, 450.0: 1651, 453.0: 1652, 533.0: 1653, 534.0: 1654, 3926.0: 1655, 112.0: 1656, 159.0: 1657, 1054.0: 1658, 3741.0: 1659, 89.0: 1660, 3861.0: 1661, 1600.0: 1662, 23.0: 1663, 2007.0: 1664, 1337.0: 1665, 799.0: 1666, 2500.0: 1667, 3286.0: 1668, 3617.0: 1669, 3553.0: 1670, 3484.0: 1671, 886.0: 1672, 1177.0: 1673, 571.0: 1674, 718.0: 1675, 2120.0: 1676, 1184.0: 1677, 1190.0: 1678, 1268.0: 1679, 735.0: 1680, 3018.0: 1681, 1417.0: 1682, 1279.0: 1683, 1352.0: 1684, 1280.0: 1685, 829.0: 1686, 2232.0: 1687, 2165.0: 1688, 1290.0: 1689, 1365.0: 1690, 766.0: 1691, 697.0: 1692, 2315.0: 1693, 3045.0: 1694, 3053.0: 1695, 1522.0: 1696, 2328.0: 1697, 2402.0: 1698, 3067.0: 1699, 1609.0: 1700, 1611.0: 1701, 3078.0: 1702, 2349.0: 1703, 2421.0: 1704, 1623.0: 1705, 3157.0: 1706, 1627.0: 1707, 1483.0: 1708, 950.0: 1709, 880.0: 1710, 3307.0: 1711, 3092.0: 1712, 893.0: 1713, 2517.0: 1714, 100.0: 1715, 3179.0: 1716, 1648.0: 1717, 3326.0: 1718, 1726.0: 1719, 2606.0: 1720, 3266.0: 1721, 1591.0: 1722, 3342.0: 1723, 1816.0: 1724, 3285.0: 1725, 1686.0: 1726, 148.0: 1727, 3509.0: 1728, 2639.0: 1729, 1769.0: 1730, 1913.0: 1731, 2718.0: 1732, 1848.0: 1733, 307.0: 1734, 309.0: 1735, 1920.0: 1736, 3452.0: 1737, 2725.0: 1738, 177.0: 1739, 3605.0: 1740, 3464.0: 1741, 1861.0: 1742, 3393.0: 1743, 322.0: 1744, 326.0: 1745, 184.0: 1746, 259.0: 1747, 188.0: 1748, 2815.0: 1749, 3478.0: 1750, 190.0: 1751, 193.0: 1752, 18.0: 1753, 268.0: 1754, 3620.0: 1755, 3550.0: 1756, 2750.0: 1757, 1950.0: 1758, 3557.0: 1759, 1882.0: 1760, 341.0: 1761, 415.0: 1762, 22.0: 1763, 281.0: 1764, 35.0: 1765, 358.0: 1766, 3571.0: 1767, 501.0: 1768, 432.0: 1769, 436.0: 1770, 290.0: 1771, 365.0: 1772, 2851.0: 1773, 2781.0: 1774, 2787.0: 1775, 519.0: 1776, 448.0: 1777, 55.0: 1778, 2793.0: 1779, 1991.0: 1780, 521.0: 1781, 2867.0: 1782, 522.0: 1783, 382.0: 1784, 456.0: 1785, 3747.0: 1786, 1211.0: 1787, 2952.0: 1788, 2956.0: 1789, 617.0: 1790, 3764.0: 1791, 3693.0: 1792, 482.0: 1793, 3918.0: 1794, 1305.0: 1795, 2038.0: 1796, 1093.0: 1797, 561.0: 1798, 2112.0: 1799, 2114.0: 1800, 1173.0: 1801, 3049.0: 1802, 3217.0: 1803, 2788.0: 1804, 3672.0: 1805, 3728.0: 1806, 514.0: 1807, 3794.0: 1808, 2310.0: 1809, 3694.0: 1810, 1228.0: 1811, 3864.0: 1812, 2057.0: 1813, 3893.0: 1814, 1298.0: 1815, 695.0: 1816, 2184.0: 1817, 2364.0: 1818, 2365.0: 1819, 3328.0: 1820, 2615.0: 1821, 1862.0: 1822, 2668.0: 1823, 2744.0: 1824, 392.0: 1825, 3826.0: 1826, 611.0: 1827, 2025.0: 1828, 2891.0: 1829, 3923.0: 1830, 3201.0: 1831, 3134.0: 1832, 3224.0: 1833, 3089.0: 1834, 959.0: 1835, 978.0: 1836, 3185.0: 1837, 3414.0: 1838, 3350.0: 1839, 314.0: 1840, 1935.0: 1841, 3545.0: 1842, 2670.0: 1843, 1951.0: 1844, 3655.0: 1845, 3808.0: 1846, 3811.0: 1847, 3742.0: 1848, 3816.0: 1849, 1066.0: 1850, 615.0: 1851, 3910.0: 1852, 3911.0: 1853, 113.0: 1854, 986.0: 1855, 2583.0: 1856, 3882.0: 1857, 3316.0: 1858, 3564.0: 1859, 3784.0: 1860, 3789.0: 1861, 3.0: 1862, 2130.0: 1863, 1401.0: 1864, 806.0: 1865, 2069.0: 1866, 664.0: 1867, 3011.0: 1868, 2212.0: 1869, 3015.0: 1870, 1414.0: 1871, 2079.0: 1872, 3103.0: 1873, 3109.0: 1874, 1432.0: 1875, 1363.0: 1876, 2177.0: 1877, 848.0: 1878, 1450.0: 1879, 929.0: 1880, 2341.0: 1881, 1477.0: 1882, 1629.0: 1883, 956.0: 1884, 2435.0: 1885, 960.0: 1886, 3317.0: 1887, 974.0: 1888, 1727.0: 1889, 2457.0: 1890, 3330.0: 1891, 122.0: 1892, 2472.0: 1893, 2474.0: 1894, 132.0: 1895, 3420.0: 1896, 3518.0: 1897, 1914.0: 1898, 3529.0: 1899, 2729.0: 1900, 1783.0: 1901, 3602.0: 1902, 1934.0: 1903, 1938.0: 1904, 254.0: 1905, 3613.0: 1906, 2819.0: 1907, 2820.0: 1908, 410.0: 1909, 279.0: 1910, 3634.0: 1911, 3724.0: 1912, 3729.0: 1913, 2782.0: 1914, 445.0: 1915, 1050.0: 1916, 3738.0: 1917, 2939.0: 1918, 451.0: 1919, 2940.0: 1920, 1209.0: 1921, 78.0: 1922, 79.0: 1923, 82.0: 1924, 1082.0: 1925, 3841.0: 1926, 1161.0: 1927, 630.0: 1928, 1099.0: 1929, 3929.0: 1930, 1245.0: 1931, 3007.0: 1932, 2505.0: 1933, 166.0: 1934, 2596.0: 1935, 2672.0: 1936, 2678.0: 1937, 2907.0: 1938, 1416.0: 1939, 2913.0: 1940, 9.0: 1941, 2422.0: 1942, 1562.0: 1943, 2803.0: 1944, 637.0: 1945, 973.0: 1946, 1939.0: 1947, 2929.0: 1948, 3112.0: 1949, 3069.0: 1950, 1926.0: 1951, 2690.0: 1952, 2439.0: 1953, 1904.0: 1954, 40.0: 1955, 43.0: 1956, 2979.0: 1957, 1187.0: 1958, 3124.0: 1959, 692.0: 1960, 2170.0: 1961, 2412.0: 1962, 990.0: 1963, 2625.0: 1964, 3439.0: 1965, 3440.0: 1966, 3444.0: 1967, 240.0: 1968, 1858.0: 1969, 1004.0: 1970, 2879.0: 1971, 464.0: 1972, 3767.0: 1973, 3768.0: 1974, 704.0: 1975, 869.0: 1976, 2357.0: 1977, 577.0: 1978, 2053.0: 1979, 8.0: 1980, 801.0: 1981, 673.0: 1982, 2152.0: 1983, 1359.0: 1984, 2162.0: 1985, 2092.0: 1986, 3054.0: 1987, 1460.0: 1988, 1474.0: 1989, 1551.0: 1990, 2354.0: 1991, 1489.0: 1992, 885.0: 1993, 1707.0: 1994, 1582.0: 1995, 1588.0: 1996, 3400.0: 1997, 2392.0: 1998, 1592.0: 1999, 2555.0: 2000, 2559.0: 2001, 146.0: 2002, 1919.0: 2003, 238.0: 2004, 239.0: 2005, 169.0: 2006, 2720.0: 2007, 181.0: 2008, 258.0: 2009, 19.0: 2010, 2828.0: 2011, 1021.0: 2012, 502.0: 2013, 362.0: 2014, 2953.0: 2015, 87.0: 2016, 558.0: 2017, 700.0: 2018, 2036.0: 2019, 631.0: 2020, 634.0: 2021, 709.0: 2022, 711.0: 2023, 3946.0: 2024, 3898.0: 2025, 536.0: 2026, 3783.0: 2027, 1131.0: 2028, 1677.0: 2029, 3282.0: 2030, 2499.0: 2031, 3606.0: 2032, 1871.0: 2033, 417.0: 2034, 1024.0: 2035, 298.0: 2036, 72.0: 2037, 84.0: 2038, 2971.0: 2039, 568.0: 2040, 2024.0: 2041, 1178.0: 2042, 1260.0: 2043, 2924.0: 2044, 2861.0: 2045, 3324.0: 2046, 3825.0: 2047, 3914.0: 2048, 3859.0: 2049, 754.0: 2050, 3118.0: 2051, 1760.0: 2052, 54.0: 2053, 145.0: 2054, 2927.0: 2055, 3896.0: 2056, 1437.0: 2057, 2190.0: 2058, 3141.0: 2059, 2279.0: 2060, 993.0: 2061, 2582.0: 2062, 12.0: 2063, 294.0: 2064, 373.0: 2065, 63.0: 2066, 2880.0: 2067, 477.0: 2068, 2073.0: 2069, 921.0: 2070, 1238.0: 2071, 2084.0: 2072, 1381.0: 2073, 126.0: 2074, 360.0: 2075, 486.0: 2076, 2102.0: 2077, 2978.0: 2078, 2048.0: 2079, 1438.0: 2080, 2476.0: 2081, 3933.0: 2082, 1349.0: 2083, 3837.0: 2084, 2203.0: 2085, 3870.0: 2086, 2204.0: 2087, 2210.0: 2088, 1507.0: 2089, 907.0: 2090, 936.0: 2091, 944.0: 2092, 3093.0: 2093, 1596.0: 2094, 3384.0: 2095, 1929.0: 2096, 1936.0: 2097, 1940.0: 2098, 2904.0: 2099, 3736.0: 2100, 2937.0: 2101, 2899.0: 2102, 3616.0: 2103, 2367.0: 2104, 15.0: 2105, 3936.0: 2106, 2524.0: 2107, 1011.0: 2108, 71.0: 2109, 3872.0: 2110, 2434.0: 2111, 3177.0: 2112, 2714.0: 2113, 1556.0: 2114, 393.0: 2115, 2285.0: 2116, 3029.0: 2117, 2181.0: 2118, 1661.0: 2119, 1925.0: 2120, 1942.0: 2121, 1167.0: 2122, 3938.0: 2123, 3521.0: 2124, 2098.0: 2125, 2231.0: 2126, 2280.0: 2127, 1542.0: 2128, 1860.0: 2129, 2182.0: 2130, 3895.0: 2131, 3238.0: 2132, 3190.0: 2133, 2807.0: 2134, 2147.0: 2135, 2099.0: 2136, 3287.0: 2137, 2566.0: 2138, 3908.0: 2139, 3537.0: 2140, 1995.0: 2141, 1322.0: 2142, 1326.0: 2143, 1328.0: 2144, 2995.0: 2145, 1329.0: 2146, 3877.0: 2147, 3013.0: 2148, 3024.0: 2149, 3138.0: 2150, 2519.0: 2151, 2451.0: 2152, 3403.0: 2153, 2634.0: 2154, 2635.0: 2155, 2645.0: 2156, 2652.0: 2157, 1924.0: 2158, 2665.0: 2159, 251.0: 2160, 328.0: 2161, 2817.0: 2162, 405.0: 2163, 407.0: 2164, 273.0: 2165, 3491.0: 2166, 3659.0: 2167, 3806.0: 2168, 3663.0: 2169, 1128.0: 2170, 1999.0: 2171, 2877.0: 2172, 2878.0: 2173, 606.0: 2174, 3919.0: 2175, 2113.0: 2176, 941.0: 2177, 892.0: 2178, 241.0: 2179, 2806.0: 2180, 3538.0: 2181, 2876.0: 2182, 3934.0: 2183, 742.0: 2184, 2327.0: 2185, 879.0: 2186, 2121.0: 2187, 3791.0: 2188, 3792.0: 2189, 3014.0: 2190, 1355.0: 2191, 2267.0: 2192, 3211.0: 2193, 2415.0: 2194, 2347.0: 2195, 948.0: 2196, 875.0: 2197, 3304.0: 2198, 2518.0: 2199, 101.0: 2200, 1807.0: 2201, 2537.0: 2202, 998.0: 2203, 3430.0: 2204, 225.0: 2205, 2713.0: 2206, 1841.0: 2207, 3387.0: 2208, 3389.0: 2209, 2736.0: 2210, 2741.0: 2211, 2745.0: 2212, 2749.0: 2213, 20.0: 2214, 1890.0: 2215, 3497.0: 2216, 1112.0: 2217, 2928.0: 2218, 2866.0: 2219, 2798.0: 2220, 387.0: 2221, 603.0: 2222, 544.0: 2223, 3766.0: 2224, 3846.0: 2225, 3849.0: 2226, 3125.0: 2227, 490.0: 2228, 1415.0: 2229, 171.0: 2230, 1879.0: 2231, 1063.0: 2232, 390.0: 2233, 715.0: 2234, 3865.0: 2235, 1605.0: 2236, 3150.0: 2237, 2284.0: 2238, 3357.0: 2239, 2561.0: 2240, 3515.0: 2241, 1889.0: 2242, 2769.0: 2243, 3720.0: 2244, 3822.0: 2245, 3756.0: 2246, 3857.0: 2247, 3132.0: 2248, 3073.0: 2249, 3154.0: 2250, 3311.0: 2251, 1404.0: 2252, 1472.0: 2253, 1647.0: 2254, 1662.0: 2255, 384.0: 2256, 3366.0: 2257, 2654.0: 2258, 487.0: 2259, 645.0: 2260, 574.0: 2261, 649.0: 2262, 665.0: 2263, 668.0: 2264, 1354.0: 2265, 1366.0: 2266, 1543.0: 2267, 3182.0: 2268, 117.0: 2269, 2609.0: 2270, 3416.0: 2271, 211.0: 2272, 1900.0: 2273, 306.0: 2274, 1859.0: 2275, 406.0: 2276, 2696.0: 2277, 2697.0: 2278, 2925.0: 2279, 3819.0: 2280, 3746.0: 2281, 535.0: 2282, 627.0: 2283, 97.0: 2284, 312.0: 2285, 69.0: 2286, 3064.0: 2287, 129.0: 2288, 1670.0: 2289, 3355.0: 2290, 3436.0: 2291, 2827.0: 2292, 3579.0: 2293, 3824.0: 2294, 798.0: 2295, 3719.0: 2296, 512.0: 2297, 2771.0: 2298, 1289.0: 2299, 2361.0: 2300, 3094.0: 2301, 1699.0: 2302, 1780.0: 2303, 1856.0: 2304, 242.0: 2305, 1932.0: 2306, 3392.0: 2307, 3395.0: 2308, 1111.0: 2309, 3813.0: 2310, 549.0: 2311, 2998.0: 2312, 2492.0: 2313, 2856.0: 2314, 2873.0: 2315, 2360.0: 2316, 213.0: 2317, 3941.0: 2318, 206.0: 2319, 2495.0: 2320, 3539.0: 2321, 3679.0: 2322, 3535.0: 2323, 1941.0: 2324, 3801.0: 2325, 927.0: 2326, 3135.0: 2327, 935.0: 2328, 3292.0: 2329, 3371.0: 2330, 2570.0: 2331, 2801.0: 2332, 3834.0: 2333, 3853.0: 2334, 3855.0: 2335, 760.0: 2336, 1499.0: 2337, 1667.0: 2338, 808.0: 2339, 2086.0: 2340, 2240.0: 2341, 1445.0: 2342, 3214.0: 2343, 1703.0: 2344, 1731.0: 2345, 204.0: 2346, 1750.0: 2347, 3431.0: 2348, 3432.0: 2349, 3433.0: 2350, 3434.0: 2351, 2494.0: 2352, 227.0: 2353, 3385.0: 2354, 3394.0: 2355, 1008.0: 2356, 332.0: 2357, 408.0: 2358, 338.0: 2359, 419.0: 2360, 426.0: 2361, 3585.0: 2362, 374.0: 2363, 460.0: 2364, 3754.0: 2365, 548.0: 2366, 2042.0: 2367, 3117.0: 2368, 1516.0: 2369, 3055.0: 2370, 787.0: 2371, 3077.0: 2372, 3192.0: 2373, 2611.0: 2374, 3275.0: 2375, 2621.0: 2376, 1910.0: 2377, 308.0: 2378, 2730.0: 2379, 320.0: 2380, 2594.0: 2381, 2812.0: 2382, 3625.0: 2383, 3718.0: 2384, 363.0: 2385, 2859.0: 2386, 1123.0: 2387, 1055.0: 2388, 1202.0: 2389, 391.0: 2390, 3903.0: 2391, 2893.0: 2392, 3858.0: 2393, 759.0: 2394, 3325.0: 2395, 182.0: 2396, 3860.0: 2397, 3950.0: 2398, 1502.0: 2399, 2247.0: 2400, 1539.0: 2401, 1612.0: 2402, 3302.0: 2403, 1564.0: 2404, 987.0: 2405, 2482.0: 2406, 3540.0: 2407, 1896.0: 2408, 3581.0: 2409, 3598.0: 2410, 68.0: 2411, 3823.0: 2412, 3901.0: 2413, 2962.0: 2414, 1236.0: 2415, 638.0: 2416, 839.0: 2417, 325.0: 2418, 274.0: 2419, 3415.0: 2420, 3470.0: 2421, 779.0: 2422, 1194.0: 2423, 1273.0: 2424, 2255.0: 2425, 2295.0: 2426, 3199.0: 2427, 209.0: 2428, 271.0: 2429, 2905.0: 2430, 352.0: 2431, 2977.0: 2432, 564.0: 2433, 639.0: 2434, 1812.0: 2435, 2988.0: 2436, 2068.0: 2437, 670.0: 2438, 1361.0: 2439, 2330.0: 2440, 214.0: 2441, 523.0: 2442, 602.0: 2443, 83.0: 2444, 85.0: 2445, 2022.0: 2446, 2104.0: 2447, 3925.0: 2448, 3390.0: 2449, 179.0: 2450, 1866.0: 2451, 1126.0: 2452, 479.0: 2453, 2996.0: 2454, 1255.0: 2455, 2656.0: 2456, 2666.0: 2457, 2667.0: 2458, 3592.0: 2459, 2035.0: 2460, 3921.0: 2461, 3922.0: 2462, 3924.0: 2463, 831.0: 2464, 1515.0: 2465, 1613.0: 2466, 2504.0: 2467, 2513.0: 2468, 984.0: 2469, 3401.0: 2470, 3262.0: 2471, 2551.0: 2472, 324.0: 2473, 2597.0: 2474, 427.0: 2475, 1051.0: 2476, 3673.0: 2477, 3674.0: 2478, 2026.0: 2479, 201.0: 2480, 2060.0: 2481, 876.0: 2482, 2372.0: 2483, 3327.0: 2484, 3511.0: 2485, 1928.0: 2486, 2587.0: 2487, 1930.0: 2488, 255.0: 2489, 1943.0: 2490, 3475.0: 2491, 66.0: 2492, 1169.0: 2493, 659.0: 2494, 3002.0: 2495, 669.0: 2496, 3010.0: 2497, 3951.0: 2498, 1413.0: 2499, 680.0: 2500, 3038.0: 2501, 3047.0: 2502, 2180.0: 2503, 854.0: 2504, 3075.0: 2505, 2351.0: 2506, 3235.0: 2507, 1631.0: 2508, 3090.0: 2509, 3241.0: 2510, 2512.0: 2511, 1572.0: 2512, 970.0: 2513, 3329.0: 2514, 3188.0: 2515, 2488.0: 2516, 3379.0: 2517, 2579.0: 2518, 3456.0: 2519, 2659.0: 2520, 1933.0: 2521, 183.0: 2522, 3547.0: 2523, 2824.0: 2524, 3627.0: 2525, 3559.0: 2526, 2689.0: 2527, 2830.0: 2528, 2780.0: 2529, 3731.0: 2530, 2864.0: 2531, 1132.0: 2532, 1068.0: 2533, 3680.0: 2534, 99.0: 2535, 3913.0: 2536, 3915.0: 2537, 2970.0: 2538, 1232.0: 2539, 3127.0: 2540, 851.0: 2541, 2271.0: 2542, 3281.0: 2543, 2590.0: 2544, 1044.0: 2545, 3041.0: 2546, 3391.0: 2547, 3715.0: 2548, 2050.0: 2549, 3144.0: 2550, 3514.0: 2551, 1053.0: 2552, 1825.0: 2553, 31.0: 2554, 3710.0: 2555, 1323.0: 2556, 2475.0: 2557, 2419.0: 2558, 3449.0: 2559, 573.0: 2560, 2994.0: 2561, 3008.0: 2562, 753.0: 2563, 685.0: 2564, 3115.0: 2565, 3128.0: 2566, 781.0: 2567, 1465.0: 2568, 1397.0: 2569, 1399.0: 2570, 2276.0: 2571, 1547.0: 2572, 1482.0: 2573, 2437.0: 2574, 1725.0: 2575, 1728.0: 2576, 988.0: 2577, 2610.0: 2578, 1811.0: 2579, 205.0: 2580, 2479.0: 2581, 2493.0: 2582, 3299.0: 2583, 2711.0: 2584, 301.0: 2585, 3711.0: 2586, 369.0: 2587, 1119.0: 2588, 57.0: 2589, 388.0: 2590, 613.0: 2591, 2963.0: 2592, 621.0: 2593, 483.0: 2594, 409.0: 2595, 1475.0: 2596, 1744.0: 2597, 776.0: 2598, 137.0: 2599, 2626.0: 2600, 2829.0: 2601, 3909.0: 2602, 3453.0: 2603, 3454.0: 2604, 3743.0: 2605, 717.0: 2606, 3867.0: 2607, 3796.0: 2608, 725.0: 2609, 1342.0: 2610, 3886.0: 2611, 3031.0: 2612, 2305.0: 2613, 1503.0: 2614, 761.0: 2615, 767.0: 2616, 842.0: 2617, 774.0: 2618, 2264.0: 2619, 870.0: 2620, 2425.0: 2621, 3158.0: 2622, 2514.0: 2623, 3245.0: 2624, 3181.0: 2625, 1655.0: 2626, 2602.0: 2627, 2607.0: 2628, 1665.0: 2629, 1741.0: 2630, 2624.0: 2631, 2483.0: 2632, 2630.0: 2633, 1844.0: 2634, 1771.0: 2635, 3459.0: 2636, 1855.0: 2637, 2585.0: 2638, 3532.0: 2639, 1867.0: 2640, 1795.0: 2641, 1796.0: 2642, 267.0: 2643, 1891.0: 2644, 2768.0: 2645, 2844.0: 2646, 518.0: 2647, 2938.0: 2648, 1058.0: 2649, 525.0: 2650, 1998.0: 2651, 458.0: 2652, 67.0: 2653, 80.0: 2654, 3902.0: 2655, 92.0: 2656, 93.0: 2657, 488.0: 2658, 2103.0: 2659, 632.0: 2660, 635.0: 2661, 495.0: 2662, 1646.0: 2663, 809.0: 2664, 1604.0: 2665, 1550.0: 2666, 2445.0: 2667, 27.0: 2668, 295.0: 2669, 3162.0: 2670, 1874.0: 2671, 2865.0: 2672, 2169.0: 2673, 1389.0: 2674, 3180.0: 2675, 1746.0: 2676, 2491.0: 2677, 2651.0: 2678, 1854.0: 2679, 354.0: 2680, 430.0: 2681, 433.0: 2682, 64.0: 2683, 2889.0: 2684, 2307.0: 2685, 3165.0: 2686, 414.0: 2687, 3653.0: 2688, 2016.0: 2689, 2129.0: 2690, 3947.0: 2691, 149.0: 2692, 1346.0: 2693, 3149.0: 2694, 2785.0: 2695, 1427.0: 2696, 917.0: 2697, 1523.0: 2698, 1531.0: 2699, 2999.0: 2700, 1410.0: 2701, 2507.0: 2702, 2809.0: 2703, 1317.0: 2704, 2151.0: 2705, 2306.0: 2706, 3048.0: 2707, 1526.0: 2708, 2345.0: 2709, 3161.0: 2710, 1632.0: 2711, 964.0: 2712, 119.0: 2713, 131.0: 2714, 3427.0: 2715, 1839.0: 2716, 1857.0: 2717, 1863.0: 2718, 1005.0: 2719, 3622.0: 2720, 2685.0: 2721, 3496.0: 2722, 505.0: 2723, 537.0: 2724, 2900.0: 2725, 1484.0: 2726, 1076.0: 2727, 135.0: 2728, 174.0: 2729, 3619.0: 2730, 570.0: 2731, 662.0: 2732, 1533.0: 2733, 3187.0: 2734, 1585.0: 2735, 1664.0: 2736, 3272.0: 2737, 263.0: 2738, 3562.0: 2739, 1150.0: 2740, 835.0: 2741, 3050.0: 2742, 2569.0: 2743, 2839.0: 2744, 3851.0: 2745, 2075.0: 2746, 3544.0: 2747, 811.0: 2748, 751.0: 2749, 1508.0: 2750, 3221.0: 2751, 958.0: 2752, 128.0: 2753, 3749.0: 2754, 77.0: 2755, 3830.0: 2756, 2897.0: 2757, 3854.0: 2758, 1642.0: 2759, 1423.0: 2760, 844.0: 2761, 3215.0: 2762, 1471.0: 2763, 3222.0: 2764, 3171.0: 2765, 3714.0: 2766, 3586.0: 2767, 3734.0: 2768, 2704.0: 2769, 3139.0: 2770, 2525.0: 2771, 3487.0: 2772, 210.0: 2773, 438.0: 2774, 1870.0: 2775, 2751.0: 2776, 3577.0: 2777, 1114.0: 2778, 1134.0: 2779, 1453.0: 2780, 619.0: 2781, 2848.0: 2782, 1456.0: 2783, 2458.0: 2784, 1598.0: 2785, 1824.0: 2786, 3761.0: 2787, 3931.0: 2788, 2992.0: 2789, 1330.0: 2790, 1335.0: 2791, 3021.0: 2792, 841.0: 2793, 3058.0: 2794, 2460.0: 2795, 2461.0: 2796, 2462.0: 2797, 2614.0: 2798, 3351.0: 2799, 2636.0: 2800, 2655.0: 2801, 2740.0: 2802, 3488.0: 2803, 2902.0: 2804, 2903.0: 2805, 3709.0: 2806, 3572.0: 2807, 3573.0: 2808, 2784.0: 2809, 1987.0: 2810, 3732.0: 2811, 3664.0: 2812, 1992.0: 2813, 1993.0: 2814, 3833.0: 2815, 3838.0: 2816, 3840.0: 2817, 1241.0: 2818, 3339.0: 2819, 2362.0: 2820, 2388.0: 2821, 3569.0: 2822, 755.0: 2823, 1496.0: 2824, 656.0: 2825, 3318.0: 2826, 1743.0: 2827, 1695.0: 2828, 3677.0: 2829, 1454.0: 2830, 1002.0: 2831, 3372.0: 2832, 2095.0: 2833, 1822.0: 2834, 1755.0: 2835, 3531.0: 2836, 250.0: 2837, 504.0: 2838, 3692.0: 2839, 1362.0: 2840, 3446.0: 2841, 681.0: 2842, 1332.0: 2843, 3839.0: 2844, 2898.0: 2845, 547.0: 2846, 3133.0: 2847, 3310.0: 2848, 156.0: 2849, 3225.0: 2850, 2219.0: 2851, 726.0: 2852, 3106.0: 2853, 2237.0: 2854, 2417.0: 2855, 2290.0: 2856, 3289.0: 2857, 305.0: 2858, 375.0: 2859, 722.0: 2860, 3894.0: 2861, 1384.0: 2862, 863.0: 2863, 3343.0: 2864, 2673.0: 2865, 2843.0: 2866, 1039.0: 2867, 2933.0: 2868, 1163.0: 2869, 2835.0: 2870, 3240.0: 2871, 1351.0: 2872, 1511.0: 2873, 2175.0: 2874, 2281.0: 2875, 2293.0: 2876, 1651.0: 2877, 3183.0: 2878, 997.0: 2879, 2620.0: 2880, 1791.0: 2881, 1003.0: 2882, 335.0: 2883, 422.0: 2884, 287.0: 2885, 503.0: 2886, 2885.0: 2887, 2400.0: 2888, 1067.0: 2889, 3906.0: 2890, 1681.0: 2891, 2810.0: 2892, 291.0: 2893, 49.0: 2894, 3725.0: 2895, 1752.0: 2896, 580.0: 2897, 939.0: 2898, 1749.0: 2899, 3670.0: 2900, 124.0: 2901, 3367.0: 2902, 583.0: 2903, 1382.0: 2904, 2448.0: 2905, 1659.0: 2906, 228.0: 2907, 191.0: 2908, 418.0: 2909, 283.0: 2910, 612.0: 2911, 478.0: 2912, 3773.0: 2913, 640.0: 2914, 3276.0: 2915, 2965.0: 2916, 2516.0: 2917, 147.0: 2918, 881.0: 2919, 2548.0: 2920, 807.0: 2921, 1153.0: 2922, 96.0: 2923, 469.0: 2924, 1798.0: 2925, 3935.0: 2926, 1341.0: 2927, 2465.0: 2928, 2754.0: 2929, 3637.0: 2930, 2853.0: 2931, 1988.0: 2932, 1996.0: 2933, 3843.0: 2934, 746.0: 2935, 3640.0: 2936, 2618.0: 2937, 106.0: 2938, 1809.0: 2939, 528.0: 2940, 705.0: 2941, 1758.0: 2942, 1865.0: 2943, 3739.0: 2944, 2157.0: 2945, 2179.0: 2946, 2521.0: 2947, 3293.0: 2948, 2062.0: 2949, 1571.0: 2950, 2535.0: 2951, 2849.0: 2952, 2074.0: 2953, 3790.0: 2954, 3428.0: 2955, 3445.0: 2956, 3490.0: 2957, 2847.0: 2958, 2854.0: 2959, 2855.0: 2960, 3667.0: 2961, 3832.0: 2962, 2128.0: 2963, 2326.0: 2964, 2526.0: 2965, 152.0: 2966, 3721.0: 2967, 2044.0: 2968, 1473.0: 2969, 3945.0: 2970, 2275.0: 2971, 1837.0: 2972, 1113.0: 2973, 1133.0: 2974, 1581.0: 2975, 3345.0: 2976, 347.0: 2977, 747.0: 2978, 2884.0: 2979, 3912.0: 2980, 1440.0: 2981, 2381.0: 2982, 578.0: 2983, 3410.0: 2984, 658.0: 2985, 2931.0: 2986, 2911.0: 2987, 3892.0: 2988, 782.0: 2989, 2477.0: 2990, 3810.0: 2991, 2896.0: 2992, 3143.0: 2993, 3368.0: 2994, 2481.0: 2995, 2201.0: 2996, 2342.0: 2997, 1656.0: 2998, 1421.0: 2999, 1312.0: 3000, 1000.0: 3001, 331.0: 3002, 2816.0: 3003, 2382.0: 3004, 2286.0: 3005, 1490.0: 3006, 1881.0: 3007, 470.0: 3008, 626.0: 3009, 810.0: 3010, 56.0: 3011, 3774.0: 3012, 2051.0: 3013, 2055.0: 3014, 3804.0: 3015, 2862.0: 3016, 1412.0: 3017, 462.0: 3018, 121.0: 3019, 1602.0: 3020, 243.0: 3021, 2799.0: 3022, 2031.0: 3023, 3795.0: 3024, 3648.0: 3025, 1902.0: 3026, 1893.0: 3027, 877.0: 3028, 3920.0: 3029, 716.0: 3030, 2446.0: 3031, 444.0: 3032, 2586.0: 3033, 2589.0: 3034, 1579.0: 3035, 2522.0: 3036, 37.0: 3037, 2487.0: 3038, 437.0: 3039, 3900.0: 3040, 2056.0: 3041, 2131.0: 3042, 731.0: 3043, 3043.0: 3044, 1447.0: 3045, 3626.0: 3046, 3805.0: 3047, 1501.0: 3048, 103.0: 3049, 1056.0: 3050, 3765.0: 3051, 1903.0: 3052, 1062.0: 3053, 2834.0: 3054, 343.0: 3055, 270.0: 3056, 1899.0: 3057, 2894.0: 3058, 2158.0: 3059, 3737.0: 3060, 1087.0: 3061, 1626.0: 3062, 3691.0: 3063, 2383.0: 3064, 443.0: 3065, 2211.0: 3066, 2227.0: 3067, 2256.0: 3068, 1817.0: 3069, 1853.0: 3070, 1887.0: 3071, 3313.0: 3072, 2523.0: 3073, 3520.0: 3074, 2753.0: 3075, 2037.0: 3076, 3632.0: 3077, 1525.0: 3078, 1595.0: 3079, 1336.0: 3080, 2837.0: 3081, 3314.0: 3082, 3611.0: 3083, 3759.0: 3084, 3775.0: 3085, 3776.0: 3086, 3848.0: 3087, 402.0: 3088, 3137.0: 3089, 576.0: 3090, 1406.0: 3091, 3588.0: 3092, 1549.0: 3093, 114.0: 3094, 2627.0: 3095, 2164.0: 3096, 2464.0: 3097, 1599.0: 3098, 2515.0: 3099, 1782.0: 3100, 2868.0: 3101, 1168.0: 3102, 2869.0: 3103, 3862.0: 3104, 3140.0: 3105, 3820.0: 3106, 2892.0: 3107, 484.0: 3108, 828.0: 3109, 1026.0: 3110, 3695.0: 3111, 3025.0: 3112, 3669.0: 3113, 667.0: 3114, 304.0: 3115, 2842.0: 3116, 1846.0: 3117, 136.0: 3118, 3378.0: 3119, 3232.0: 3120, 1458.0: 3121, 2466.0: 3122, 992.0: 3123, 882.0: 3124, 386.0: 3125, 710.0: 3126, 2200.0: 3127, 850.0: 3128, 202.0: 3129, 1117.0: 3130, 2577.0: 3131, 167.0: 3132, 2773.0: 3133, 3580.0: 3134, 1040.0: 3135, 385.0: 3136, 3803.0: 3137, 2593.0: 3138, 2760.0: 3139, 1696.0: 3140, 860.0: 3141, 2397.0: 3142, 2715.0: 3143, 2733.0: 3144, 2755.0: 3145, 2756.0: 3146, 3716.0: 3147, 3575.0: 3148, 888.0: 3149, 2695.0: 3150, 3845.0: 3151, 3306.0: 3152, 867.0: 3153, 2509.0: 3154, 1006.0: 3155, 3647.0: 3156, 2727.0: 3157, 2914.0: 3158, 2960.0: 3159, 2061.0: 3160, 2317.0: 3161, 2185.0: 3162, 2187.0: 3163, 3797.0: 3164, 1864.0: 3165, 2778.0: 3166, 61.0: 3167, 554.0: 3168, 2205.0: 3169, 734.0: 3170, 2215.0: 3171, 1455.0: 3172, 3239.0: 3173, 1493.0: 3174, 2675.0: 3175, 1151.0: 3176, 2510.0: 3177, 3349.0: 3178, 1793.0: 3179, 2767.0: 3180, 3570.0: 3181, 2251.0: 3182, 3942.0: 3183, 2032.0: 3184, 1668.0: 3185, 1814.0: 3186, 3495.0: 3187, 3880.0: 3188, 1514.0: 3189, 1561.0: 3190, 3568.0: 3191, 359.0: 3192, 310.0: 3193, 833.0: 3194, 2578.0: 3195, 59.0: 3196, 2196.0: 3197, 3122.0: 3198, 2449.0: 3199, 452.0: 3200, 2244.0: 3201, 3042.0: 3202, 2332.0: 3203, 1575.0: 3204, 756.0: 3205, 2691.0: 3206, 3884.0: 3207, 2813.0: 3208, 3883.0: 3209, 3319.0: 3210, 2538.0: 3211, 2283.0: 3212, 2191.0: 3213, 3781.0: 3214, 792.0: 3215, 3218.0: 3216, 3223.0: 3217, 3402.0: 3218, 3800.0: 3219, 3850.0: 3220, 3875.0: 3221, 2386.0: 3222, 3333.0: 3223, 2536.0: 3224, 3346.0: 3225, 3782.0: 3226, 2981.0: 3227, 821.0: 3228, 1767.0: 3229, 220.0: 3230, 3645.0: 3231, 1426.0: 3232, 2292.0: 3233, 840.0: 3234, 2552.0: 3235, 2556.0: 3236, 1144.0: 3237, 2934.0: 3238, 1622.0: 3239, 1679.0: 3240, 1102.0: 3241, 814.0: 3242, 2008.0: 3243, 394.0: 3244, 702.0: 3245, 744.0: 3246, 2246.0: 3247, 2440.0: 3248, 1154.0: 3249, 1160.0: 3250, 652.0: 3251, 1574.0: 3252, 1906.0: 3253, 389.0: 3254, 2945.0: 3255, 397.0: 3256, 559.0: 3257, 1494.0: 3258, 1869.0: 3259, 3482.0: 3260, 1439.0: 3261, 2260.0: 3262, 3126.0: 3263, 3878.0: 3264, 1486.0: 3265, 1324.0: 3266, 200.0: 3267, 1174.0: 3268, 1829.0: 3269, 1898.0: 3270, 108.0: 3271, 2758.0: 3272, 3597.0: 3273, 3885.0: 3274, 2192.0: 3275, 1519.0: 3276, 2545.0: 3277, 2775.0: 3278, 600.0: 3279, 1369.0: 3280, 1567.0: 3281, 2923.0: 3282, 2653.0: 3283, 3847.0: 3284, 2368.0: 3285, 3344.0: 3286, 3757.0: 3287, 3772.0: 3288, 3777.0: 3289, 2982.0: 3290, 3012.0: 3291, 1149.0: 3292, 189.0: 3293, 3492.0: 3294, 102.0: 3295, 598.0: 3296, 563.0: 3297, 2786.0: 3298, 729.0: 3299, 2063.0: 3300, 758.0: 3301, 245.0: 3302, 264.0: 3303, 2825.0: 3304, 3636.0: 3305, 2850.0: 3306, 1116.0: 3307, 682.0: 3308, 1504.0: 3309, 862.0: 3310, 2503.0: 3311, 1570.0: 3312, 2557.0: 3313, 2705.0: 3314, 197.0: 3315, 53.0: 3316, 567.0: 3317, 925.0: 3318, 3116.0: 3319, 3944.0: 3320, 962.0: 3321, 618.0: 3322, 2172.0: 3323, 120.0: 3324, 2209.0: 3325, 3003.0: 3326, 967.0: 3327, 2814.0: 3328, 2823.0: 3329, 3486.0: 3330, 3642.0: 3331, 3335.0: 3332, 2608.0: 3333, 1444.0: 3334, 3657.0: 3335, 1138.0: 3336, 2776.0: 3337, 769.0: 3338, 1675.0: 3339, 411.0: 3340, 614.0: 3341, 698.0: 3342, 3542.0: 3343, 2765.0: 3344, 1872.0: 3345, 1038.0: 3346, 712.0: 3347, 2831.0: 3348, 2358.0: 3349, 1692.0: 3350, 980.0: 3351, 1121.0: 3352, 2562.0: 3353, 3205.0: 3354, 3442.0: 3355, 1105.0: 3356, 3644.0: 3357, 401.0: 3358, 2350.0: 3359, 38.0: 3360, 2207.0: 3361, 2221.0: 3362, 3131.0: 3363, 1850.0: 3364, 1164.0: 3365, 633.0: 3366, 864.0: 3367, 1565.0: 3368, 219.0: 3369, 3294.0: 3370, 3305.0: 3371, 1383.0: 3372, 3380.0: 3373, 643.0: 3374, 3419.0: 3375, 2632.0: 3376, 3888.0: 3377, 823.0: 3378, 2441.0: 3379, 1671.0: 3380, 2619.0: 3381, 2242.0: 3382, 1877.0: 3383, 2101.0: 3384, 3817.0: 3385, 2563.0: 3386, 3905.0: 3387, 853.0: 3388, 2974.0: 3389, 666.0: 3390, 1364.0: 3391, 696.0: 3392, 3517.0: 3393, 2984.0: 3394, 3601.0: 3395, 3303.0: 3396, 3940.0: 3397, 2257.0: 3398, 297.0: 3399, 3887.0: 3400, 2743.0: 3401, 2964.0: 3402, 1181.0: 3403, 3212.0: 3404, 3407.0: 3405, 601.0: 3406, 3322.0: 3407, 1908.0: 3408, 1764.0: 3409, 2584.0: 3410, 3283.0: 3411, 884.0: 3412, 3085.0: 3413, 1098.0: 3414, 1652.0: 3415, 2197.0: 3416, 2818.0: 3417, 1685.0: 3418, 2298.0: 3419, 2591.0: 3420, 3523.0: 3421, 687.0: 3422, 2299.0: 3423, 212.0: 3424, 834.0: 3425, 1520.0: 3426, 2886.0: 3427, 796.0: 3428, 1528.0: 3429, 244.0: 3430, 3465.0: 3431, 3665.0: 3432, 2304.0: 3433, 1990.0: 3434, 3641.0: 3435, 3437.0: 3436, 2737.0: 3437, 1534.0: 3438, 3216.0: 3439, 3119.0: 3440, 1773.0: 3441, 3563.0: 3442, 3277.0: 3443, 2658.0: 3444, 3666.0: 3445, 3522.0: 3446, 3295.0: 3447, 3377.0: 3448, 557.0: 3449, 1420.0: 3450, 1497.0: 3451, 560.0: 3452, 1878.0: 3453, 3458.0: 3454, 706.0: 3455, 2226.0: 3456, 1538.0: 3457, 2127.0: 3458, 2444.0: 3459, 3353.0: 3460, 3352.0: 3461, 566.0: 3462, 1770.0: 3463, 398.0: 3464, 1436.0: 3465, 989.0: 3466, 3136.0: 3467, 3184.0: 3468, 3288.0: 3469, 1826.0: 3470, 1739.0: 3471, 192.0: 3472, 2679.0: 3473, 1532.0: 3474, 966.0: 3475, 33.0: 3476, 2592.0: 3477, 75.0: 3478, 657.0: 3479, 3890.0: 3480, 749.0: 3481, 3818.0: 3482, 582.0: 3483, 732.0: 3484, 2930.0: 3485, 3057.0: 3486, 3374.0: 3487, 2156.0: 3488, 130.0: 3489, 139.0: 3490, 775.0: 3491, 972.0: 3492, 3595.0: 3493, 790.0: 3494, 3899.0: 3495, 1915.0: 3496, 2833.0: 3497, 526.0: 3498, 2887.0: 3499, 90.0: 3500, 3207.0: 3501, 815.0: 3502, 3242.0: 3503, 3533.0: 3504, 703.0: 3505, 1851.0: 3506, 3866.0: 3507, 789.0: 3508, 1830.0: 3509, 3881.0: 3510, 2777.0: 3511, 3652.0: 3512, 3443.0: 3513, 1325.0: 3514, 874.0: 3515, 757.0: 3516, 1787.0: 3517, 2895.0: 3518, 889.0: 3519, 1470.0: 3520, 1495.0: 3521, 981.0: 3522, 1886.0: 3523, 847.0: 3524, 2955.0: 3525, 2234.0: 3526, 679.0: 3527, 1901.0: 3528, 3373.0: 3529, 2631.0: 3530, 872.0: 3531, 3381.0: 3532, 1555.0: 3533, 3779.0: 3534, 623.0: 3535, 791.0: 3536, 3609.0: 3537, 1724.0: 3538, 2223.0: 3539, 1849.0: 3540, 3233.0: 3541, 1170.0: 3542, 985.0: 3543, 3172.0: 3544, 3065.0: 3545, 3631.0: 3546, 1139.0: 3547, 3472.0: 3548, 3842.0: 3549, 3876.0: 3550, 572.0: 3551, 311.0: 3552, 2452.0: 3553, 2783.0: 3554, 2623.0: 3555, 793.0: 3556, 1989.0: 3557, 1636.0: 3558, 3236.0: 3559, 1718.0: 3560, 396.0: 3561, 868.0: 3562, 3828.0: 3563, 3413.0: 3564, 1316.0: 3565, 1071.0: 3566, 878.0: 3567, 2811.0: 3568, 3603.0: 3569, 1107.0: 3570, 827.0: 3571, 584.0: 3572, 2821.0: 3573, 607.0: 3574, 1510.0: 3575, 1548.0: 3576, 701.0: 3577, 2214.0: 3578, 763.0: 3579, 3229.0: 3580, 820.0: 3581, 3337.0: 3582, 138.0: 3583, 530.0: 3584, 1070.0: 3585, 3778.0: 3586, 98.0: 3587, 3336.0: 3588, 3290.0: 3589, 3164.0: 3590, 1832.0: 3591, 439.0: 3592, 134.0: 3593, 1553.0: 3594, 2480.0: 3595, 1842.0: 3596, 2309.0: 3597, 887.0: 3598, 3084.0: 3599, 3748.0: 3600, 624.0: 3601, 1433.0: 3602, 1145.0: 3603, 2576.0: 3604, 1434.0: 3605, 1868.0: 3606, 404.0: 3607, 3463.0: 3608, 2486.0: 3609, 2543.0: 3610, 591.0: 3611, 1315.0: 3612, 3656.0: 3613, 2438.0: 3614, 3323.0: 3615, 3382.0: 3616, 1843.0: 3617, 286.0: 3618, 3530.0: 3619, 2198.0: 3620, 2703.0: 3621, 2258.0: 3622, 3607.0: 3623, 3026.0: 3624, 690.0: 3625, 2909.0: 3626, 1360.0: 3627, 3953.0: 3628, 3954.0: 3629, 3955.0: 3630, 3956.0: 3631, 3957.0: 3632}\n"
     ]
    }
   ],
   "source": [
    "user_idx_to_unique = {v: k for k, v in enumerate(data_movie.user_id.unique())}\n",
    "movie_idx_to_unique = {v: k for k, v in enumerate(data_movie.movie_id.unique())}\n",
    "print(movie_idx_to_unique)"
   ]
  },
  {
   "cell_type": "code",
   "execution_count": null,
   "metadata": {},
   "outputs": [],
   "source": []
  },
  {
   "cell_type": "code",
   "execution_count": 434,
   "metadata": {
    "scrolled": true
   },
   "outputs": [
    {
     "name": "stdout",
     "output_type": "stream",
     "text": [
      "0       0\n",
      "1       0\n",
      "2       0\n",
      "3       0\n",
      "4       0\n",
      "     ... \n",
      "0    3628\n",
      "1    3629\n",
      "2    3630\n",
      "3    3631\n",
      "4    3632\n",
      "Name: movie_id, Length: 836483, dtype: int64\n"
     ]
    }
   ],
   "source": [
    "temp_user_data = data_movie.user_id.map(user_idx_to_unique.get).dropna()\n",
    "temp_movie_data = data_movie.movie_id.map(movie_idx_to_unique.get).dropna()\n",
    "print(temp_movie_data)"
   ]
  },
  {
   "cell_type": "code",
   "execution_count": 435,
   "metadata": {},
   "outputs": [
    {
     "name": "stderr",
     "output_type": "stream",
     "text": [
      "/home/goldhanwool/anaconda3/envs/aiffel/lib/python3.7/site-packages/ipykernel_launcher.py:2: UserWarning: Pandas doesn't allow columns to be created via a new attribute name - see https://pandas.pydata.org/pandas-docs/stable/indexing.html#attribute-access\n",
      "  \n"
     ]
    }
   ],
   "source": [
    "data_movie.user_id = temp_user_data\n",
    "data_movie.movie = temp_movie_data"
   ]
  },
  {
   "cell_type": "code",
   "execution_count": 436,
   "metadata": {
    "scrolled": true
   },
   "outputs": [
    {
     "data": {
      "text/plain": [
       "<6040x3958 sparse matrix of type '<class 'numpy.float64'>'\n",
       "\twith 836483 stored elements in Compressed Sparse Row format>"
      ]
     },
     "execution_count": 436,
     "metadata": {},
     "output_type": "execute_result"
    }
   ],
   "source": [
    "from scipy.sparse import csr_matrix\n",
    "\n",
    "num_user = data_movie['user_id'].nunique()\n",
    "num_movie = data_movie['movie_id'].nunique()\n",
    "\n",
    "\n",
    "## 확인\n",
    "csr_data = csr_matrix((data_movie.play, (data_movie.user_id, data_movie.movie_id.astype(int))))\n",
    "csr_data"
   ]
  },
  {
   "cell_type": "markdown",
   "metadata": {},
   "source": [
    "#### 5) als_model = AlternatingLeastSquares 모델을 직접 구성하여 훈련시켜 봅시다."
   ]
  },
  {
   "cell_type": "code",
   "execution_count": 437,
   "metadata": {},
   "outputs": [],
   "source": [
    "from implicit.als import AlternatingLeastSquares\n",
    "import numpy as np\n",
    "\n",
    "os.environ['OPENBLAS_NUM_THREADS']='1'\n",
    "os.environ['KMP_DUPLICATE_LIB_OK']='True'\n",
    "os.environ['MKL_NUM_THREADS']='1'"
   ]
  },
  {
   "cell_type": "markdown",
   "metadata": {},
   "source": [
    "#### 6) 내가 선호하는 5가지 영화 중 하나와 그 외의 영화 하나를 골라 훈련된 모델이 예측한 나의 선호도를 파악해 보세요."
   ]
  },
  {
   "cell_type": "code",
   "execution_count": 438,
   "metadata": {},
   "outputs": [
    {
     "name": "stdout",
     "output_type": "stream",
     "text": [
      "a\n"
     ]
    }
   ],
   "source": [
    "als_model = AlternatingLeastSquares(factors=100, regularization=0.01, use_gpu=False, iterations=15, dtype=np.float32)\n",
    "print('a')"
   ]
  },
  {
   "cell_type": "code",
   "execution_count": 439,
   "metadata": {},
   "outputs": [
    {
     "data": {
      "text/plain": [
       "<3958x6040 sparse matrix of type '<class 'numpy.float64'>'\n",
       "\twith 836483 stored elements in Compressed Sparse Column format>"
      ]
     },
     "execution_count": 439,
     "metadata": {},
     "output_type": "execute_result"
    }
   ],
   "source": [
    "# als 모델은 input으로(item X user 꼴의 matrix를 받기 때문에 Transpose 해준다.)\n",
    "csr_data_transpose = csr_data.T\n",
    "csr_data_transpose"
   ]
  },
  {
   "cell_type": "code",
   "execution_count": 440,
   "metadata": {
    "scrolled": true
   },
   "outputs": [
    {
     "data": {
      "application/vnd.jupyter.widget-view+json": {
       "model_id": "8aed48aaec2c4271b8366b41b5511a79",
       "version_major": 2,
       "version_minor": 0
      },
      "text/plain": [
       "HBox(children=(HTML(value=''), FloatProgress(value=0.0, max=15.0), HTML(value='')))"
      ]
     },
     "metadata": {},
     "output_type": "display_data"
    },
    {
     "name": "stdout",
     "output_type": "stream",
     "text": [
      "\n"
     ]
    }
   ],
   "source": [
    "# 모델 훈련\n",
    "als_model.fit(csr_data_transpose)"
   ]
  },
  {
   "cell_type": "code",
   "execution_count": 441,
   "metadata": {},
   "outputs": [],
   "source": [
    "young, innocence = user_idx_to_unique[6041.0], movie_idx_to_unique [3954]"
   ]
  },
  {
   "cell_type": "code",
   "execution_count": 442,
   "metadata": {},
   "outputs": [
    {
     "name": "stdout",
     "output_type": "stream",
     "text": [
      "6039\n"
     ]
    }
   ],
   "source": [
    "print(young)"
   ]
  },
  {
   "cell_type": "code",
   "execution_count": 443,
   "metadata": {},
   "outputs": [],
   "source": [
    "young_vector, innocence_vector = als_model.user_factors[young], als_model.item_factors[innocence]"
   ]
  },
  {
   "cell_type": "code",
   "execution_count": 444,
   "metadata": {},
   "outputs": [
    {
     "data": {
      "text/plain": [
       "array([-0.01259114,  0.00177916,  0.00376282,  0.01937305,  0.01100119,\n",
       "        0.00921326,  0.00296128, -0.00845105, -0.02230633, -0.01624733,\n",
       "        0.00849432,  0.00212746, -0.00230958, -0.00200916, -0.01410863,\n",
       "        0.01637352,  0.00865134, -0.00890042,  0.01087905, -0.01407258,\n",
       "       -0.00042029,  0.01332388,  0.00133411, -0.01941209,  0.00772638,\n",
       "       -0.01208879, -0.00377444, -0.0067024 , -0.0044545 , -0.00339277,\n",
       "        0.0130886 , -0.00237074,  0.01465186,  0.02920102,  0.00960751,\n",
       "       -0.00322614, -0.00402683,  0.00288786, -0.010149  ,  0.00974153,\n",
       "        0.01505856, -0.01055237,  0.00015098, -0.00485009, -0.02696163,\n",
       "        0.00626   ,  0.00747949, -0.02140999,  0.00678554, -0.00566063,\n",
       "       -0.01133129,  0.00991937, -0.00810852, -0.00341831, -0.00259172,\n",
       "       -0.01344768, -0.00830866, -0.0084981 , -0.00815811,  0.0113934 ,\n",
       "        0.00124598, -0.0207618 ,  0.00202988,  0.00302629, -0.00698066,\n",
       "        0.0044424 , -0.00632385,  0.01549129,  0.00014955,  0.00035627,\n",
       "       -0.00399488,  0.00705184,  0.00274219, -0.01300705,  0.00106771,\n",
       "       -0.0147187 ,  0.00490026,  0.01400346,  0.00300377,  0.00497171,\n",
       "        0.01284823, -0.00170665,  0.01629918, -0.00139046,  0.00720806,\n",
       "        0.02041632, -0.00424979,  0.01178275,  0.00206815, -0.00346019,\n",
       "        0.0014967 ,  0.0291903 , -0.00170557, -0.00849829, -0.00916452,\n",
       "       -0.0092563 ,  0.01440379,  0.0098625 , -0.0106489 ,  0.01490292],\n",
       "      dtype=float32)"
      ]
     },
     "execution_count": 444,
     "metadata": {},
     "output_type": "execute_result"
    }
   ],
   "source": [
    "young_vector"
   ]
  },
  {
   "cell_type": "code",
   "execution_count": 445,
   "metadata": {},
   "outputs": [
    {
     "data": {
      "text/plain": [
       "array([ 0.01217118,  0.00780137,  0.00163231, -0.00283156,  0.02647502,\n",
       "        0.00776701,  0.01776189,  0.00355793,  0.01490454, -0.00811312,\n",
       "       -0.00959238, -0.00306163, -0.00549251,  0.00514555,  0.00088   ,\n",
       "        0.01225087,  0.00899868,  0.01823185,  0.01992546,  0.00801564,\n",
       "        0.00395353, -0.00415743,  0.00579333,  0.01849301,  0.01735522,\n",
       "        0.00360011,  0.03368995,  0.01921011,  0.01486898, -0.01066597,\n",
       "       -0.02113584,  0.01550714,  0.00389142,  0.01516959,  0.01596986,\n",
       "       -0.01643265, -0.00160559, -0.00815819,  0.00778424,  0.0072218 ,\n",
       "        0.00073786,  0.01380786, -0.01761136,  0.00378765,  0.01187292,\n",
       "        0.02644409, -0.00672761, -0.00081046,  0.00337621,  0.01885777,\n",
       "       -0.0073767 ,  0.01024787,  0.00721837,  0.02470968, -0.01340194,\n",
       "        0.01514371,  0.00144081,  0.02170672,  0.00807022,  0.00633446,\n",
       "        0.00264972, -0.01096052,  0.0033404 ,  0.0221419 ,  0.01756351,\n",
       "       -0.00543312, -0.01101977,  0.03187341, -0.00873375,  0.0129036 ,\n",
       "        0.01625945,  0.01000338, -0.0141404 ,  0.02498324,  0.01448632,\n",
       "        0.00086283,  0.02115062, -0.00018934, -0.00226081,  0.02652067,\n",
       "       -0.00345407,  0.00729957,  0.01438011, -0.02998806, -0.00189531,\n",
       "       -0.00220339, -0.01126663, -0.00996692,  0.0037172 , -0.00295218,\n",
       "       -0.00151166,  0.03891037, -0.00411596, -0.00454165, -0.01307341,\n",
       "        0.02131608, -0.01555381, -0.01445779,  0.00088066,  0.00377837],\n",
       "      dtype=float32)"
      ]
     },
     "execution_count": 445,
     "metadata": {},
     "output_type": "execute_result"
    }
   ],
   "source": [
    "innocence_vector"
   ]
  },
  {
   "cell_type": "code",
   "execution_count": 446,
   "metadata": {},
   "outputs": [
    {
     "data": {
      "text/plain": [
       "0.00062472996"
      ]
     },
     "execution_count": 446,
     "metadata": {},
     "output_type": "execute_result"
    }
   ],
   "source": [
    "np.dot(young_vector, innocence_vector)"
   ]
  },
  {
   "cell_type": "code",
   "execution_count": 447,
   "metadata": {},
   "outputs": [],
   "source": [
    "young, mad_max= user_idx_to_unique[6041.0],  movie_idx_to_unique[3955]\n",
    "young_vector, mad_max_vector = als_model.user_factors[young], als_model.item_factors[mad_max]"
   ]
  },
  {
   "cell_type": "code",
   "execution_count": 448,
   "metadata": {},
   "outputs": [
    {
     "data": {
      "text/plain": [
       "1.5031001e-06"
      ]
     },
     "execution_count": 448,
     "metadata": {},
     "output_type": "execute_result"
    }
   ],
   "source": [
    "np.dot(young_vector, toy_story_vector)"
   ]
  },
  {
   "cell_type": "markdown",
   "metadata": {},
   "source": [
    "#### 7) 내가 좋아하는 영화와 비슷한 영화를 추천받아 봅시다."
   ]
  },
  {
   "cell_type": "code",
   "execution_count": 449,
   "metadata": {
    "scrolled": true
   },
   "outputs": [
    {
     "data": {
      "text/plain": [
       "[(3632, 1.0000001),\n",
       " (970, 0.80874765),\n",
       " (3739, 0.79335195),\n",
       " (3306, 0.7830693),\n",
       " (1067, 0.7576544),\n",
       " (3640, 0.75658536),\n",
       " (946, 0.75440115),\n",
       " (2847, 0.7478806),\n",
       " (3532, 0.74210703),\n",
       " (2936, 0.73228896),\n",
       " (3133, 0.73207635),\n",
       " (2927, 0.72965986),\n",
       " (1934, 0.7295573),\n",
       " (958, 0.7260881),\n",
       " (1068, 0.72427905)]"
      ]
     },
     "execution_count": 449,
     "metadata": {},
     "output_type": "execute_result"
    }
   ],
   "source": [
    "favorite_movie = movie_idx_to_unique[3957]\n",
    "similar_movie = als_model.similar_items(favorite_movie, N=15)\n",
    "similar_movie"
   ]
  },
  {
   "cell_type": "code",
   "execution_count": 450,
   "metadata": {},
   "outputs": [
    {
     "ename": "KeyError",
     "evalue": "3739",
     "output_type": "error",
     "traceback": [
      "\u001b[0;31m---------------------------------------------------------------------------\u001b[0m",
      "\u001b[0;31mKeyError\u001b[0m                                  Traceback (most recent call last)",
      "\u001b[0;32m<ipython-input-450-046004b8c289>\u001b[0m in \u001b[0;36m<module>\u001b[0;34m\u001b[0m\n\u001b[1;32m      1\u001b[0m \u001b[0midx_to_movie\u001b[0m \u001b[0;34m=\u001b[0m \u001b[0;34m{\u001b[0m\u001b[0mv\u001b[0m\u001b[0;34m:\u001b[0m\u001b[0mk\u001b[0m \u001b[0;32mfor\u001b[0m \u001b[0mk\u001b[0m\u001b[0;34m,\u001b[0m\u001b[0mv\u001b[0m \u001b[0;32min\u001b[0m \u001b[0mmovie_idx_to_unique\u001b[0m\u001b[0;34m.\u001b[0m\u001b[0mitems\u001b[0m\u001b[0;34m(\u001b[0m\u001b[0;34m)\u001b[0m\u001b[0;34m}\u001b[0m\u001b[0;34m\u001b[0m\u001b[0;34m\u001b[0m\u001b[0m\n\u001b[0;32m----> 2\u001b[0;31m \u001b[0;34m[\u001b[0m\u001b[0midx_to_movie\u001b[0m\u001b[0;34m[\u001b[0m\u001b[0mi\u001b[0m\u001b[0;34m[\u001b[0m\u001b[0;36m0\u001b[0m\u001b[0;34m]\u001b[0m\u001b[0;34m]\u001b[0m \u001b[0;32mfor\u001b[0m \u001b[0mi\u001b[0m \u001b[0;32min\u001b[0m \u001b[0msimilar_movie\u001b[0m\u001b[0;34m]\u001b[0m\u001b[0;34m\u001b[0m\u001b[0;34m\u001b[0m\u001b[0m\n\u001b[0m",
      "\u001b[0;32m<ipython-input-450-046004b8c289>\u001b[0m in \u001b[0;36m<listcomp>\u001b[0;34m(.0)\u001b[0m\n\u001b[1;32m      1\u001b[0m \u001b[0midx_to_movie\u001b[0m \u001b[0;34m=\u001b[0m \u001b[0;34m{\u001b[0m\u001b[0mv\u001b[0m\u001b[0;34m:\u001b[0m\u001b[0mk\u001b[0m \u001b[0;32mfor\u001b[0m \u001b[0mk\u001b[0m\u001b[0;34m,\u001b[0m\u001b[0mv\u001b[0m \u001b[0;32min\u001b[0m \u001b[0mmovie_idx_to_unique\u001b[0m\u001b[0;34m.\u001b[0m\u001b[0mitems\u001b[0m\u001b[0;34m(\u001b[0m\u001b[0;34m)\u001b[0m\u001b[0;34m}\u001b[0m\u001b[0;34m\u001b[0m\u001b[0;34m\u001b[0m\u001b[0m\n\u001b[0;32m----> 2\u001b[0;31m \u001b[0;34m[\u001b[0m\u001b[0midx_to_movie\u001b[0m\u001b[0;34m[\u001b[0m\u001b[0mi\u001b[0m\u001b[0;34m[\u001b[0m\u001b[0;36m0\u001b[0m\u001b[0;34m]\u001b[0m\u001b[0;34m]\u001b[0m \u001b[0;32mfor\u001b[0m \u001b[0mi\u001b[0m \u001b[0;32min\u001b[0m \u001b[0msimilar_movie\u001b[0m\u001b[0;34m]\u001b[0m\u001b[0;34m\u001b[0m\u001b[0;34m\u001b[0m\u001b[0m\n\u001b[0m",
      "\u001b[0;31mKeyError\u001b[0m: 3739"
     ]
    }
   ],
   "source": [
    "idx_to_movie = {v:k for k,v in movie_idx_to_unique.items()}\n",
    "[idx_to_movie[i[0]] for i in similar_movie]"
   ]
  },
  {
   "cell_type": "markdown",
   "metadata": {},
   "source": [
    "#### 8) 내가 가장 좋아할 만한 영화들을 추천받아 봅시다."
   ]
  },
  {
   "cell_type": "code",
   "execution_count": 451,
   "metadata": {},
   "outputs": [
    {
     "name": "stdout",
     "output_type": "stream",
     "text": [
      "a\n"
     ]
    }
   ],
   "source": [
    "young = user_idx_to_unique[6041.0]\n",
    "movie_recommend = als_model.recommend(young, csr_data, N=20, filter_already_liked_items=True)\n",
    "print('a')"
   ]
  },
  {
   "cell_type": "code",
   "execution_count": 452,
   "metadata": {},
   "outputs": [
    {
     "ename": "KeyError",
     "evalue": "3948",
     "output_type": "error",
     "traceback": [
      "\u001b[0;31m---------------------------------------------------------------------------\u001b[0m",
      "\u001b[0;31mKeyError\u001b[0m                                  Traceback (most recent call last)",
      "\u001b[0;32m<ipython-input-452-19a42968ce97>\u001b[0m in \u001b[0;36m<module>\u001b[0;34m\u001b[0m\n\u001b[1;32m      1\u001b[0m \u001b[0midx_to_movie\u001b[0m \u001b[0;34m=\u001b[0m \u001b[0;34m{\u001b[0m\u001b[0mv\u001b[0m\u001b[0;34m:\u001b[0m\u001b[0mk\u001b[0m \u001b[0;32mfor\u001b[0m \u001b[0mk\u001b[0m\u001b[0;34m,\u001b[0m\u001b[0mv\u001b[0m \u001b[0;32min\u001b[0m \u001b[0mmovie_idx_to_unique\u001b[0m\u001b[0;34m.\u001b[0m\u001b[0mitems\u001b[0m\u001b[0;34m(\u001b[0m\u001b[0;34m)\u001b[0m\u001b[0;34m}\u001b[0m\u001b[0;34m\u001b[0m\u001b[0;34m\u001b[0m\u001b[0m\n\u001b[0;32m----> 2\u001b[0;31m \u001b[0;34m[\u001b[0m\u001b[0midx_to_movie\u001b[0m\u001b[0;34m[\u001b[0m\u001b[0mi\u001b[0m\u001b[0;34m[\u001b[0m\u001b[0;36m0\u001b[0m\u001b[0;34m]\u001b[0m\u001b[0;34m]\u001b[0m \u001b[0;32mfor\u001b[0m \u001b[0mi\u001b[0m \u001b[0;32min\u001b[0m \u001b[0mmovie_recommend\u001b[0m\u001b[0;34m]\u001b[0m\u001b[0;34m\u001b[0m\u001b[0;34m\u001b[0m\u001b[0m\n\u001b[0m",
      "\u001b[0;32m<ipython-input-452-19a42968ce97>\u001b[0m in \u001b[0;36m<listcomp>\u001b[0;34m(.0)\u001b[0m\n\u001b[1;32m      1\u001b[0m \u001b[0midx_to_movie\u001b[0m \u001b[0;34m=\u001b[0m \u001b[0;34m{\u001b[0m\u001b[0mv\u001b[0m\u001b[0;34m:\u001b[0m\u001b[0mk\u001b[0m \u001b[0;32mfor\u001b[0m \u001b[0mk\u001b[0m\u001b[0;34m,\u001b[0m\u001b[0mv\u001b[0m \u001b[0;32min\u001b[0m \u001b[0mmovie_idx_to_unique\u001b[0m\u001b[0;34m.\u001b[0m\u001b[0mitems\u001b[0m\u001b[0;34m(\u001b[0m\u001b[0;34m)\u001b[0m\u001b[0;34m}\u001b[0m\u001b[0;34m\u001b[0m\u001b[0;34m\u001b[0m\u001b[0m\n\u001b[0;32m----> 2\u001b[0;31m \u001b[0;34m[\u001b[0m\u001b[0midx_to_movie\u001b[0m\u001b[0;34m[\u001b[0m\u001b[0mi\u001b[0m\u001b[0;34m[\u001b[0m\u001b[0;36m0\u001b[0m\u001b[0;34m]\u001b[0m\u001b[0;34m]\u001b[0m \u001b[0;32mfor\u001b[0m \u001b[0mi\u001b[0m \u001b[0;32min\u001b[0m \u001b[0mmovie_recommend\u001b[0m\u001b[0;34m]\u001b[0m\u001b[0;34m\u001b[0m\u001b[0;34m\u001b[0m\u001b[0m\n\u001b[0m",
      "\u001b[0;31mKeyError\u001b[0m: 3948"
     ]
    }
   ],
   "source": [
    "idx_to_movie = {v:k for k,v in movie_idx_to_unique.items()}\n",
    "[idx_to_movie[i[0]] for i in movie_recommend]"
   ]
  },
  {
   "cell_type": "code",
   "execution_count": 453,
   "metadata": {},
   "outputs": [
    {
     "ename": "KeyError",
     "evalue": "3955",
     "output_type": "error",
     "traceback": [
      "\u001b[0;31m---------------------------------------------------------------------------\u001b[0m",
      "\u001b[0;31mKeyError\u001b[0m                                  Traceback (most recent call last)",
      "\u001b[0;32m<ipython-input-453-01d71f613cb7>\u001b[0m in \u001b[0;36m<module>\u001b[0;34m\u001b[0m\n\u001b[1;32m      1\u001b[0m \u001b[0mexplain\u001b[0m \u001b[0;34m=\u001b[0m \u001b[0mals_model\u001b[0m\u001b[0;34m.\u001b[0m\u001b[0mexplain\u001b[0m\u001b[0;34m(\u001b[0m\u001b[0myoung\u001b[0m\u001b[0;34m,\u001b[0m \u001b[0mcsr_data\u001b[0m\u001b[0;34m,\u001b[0m \u001b[0mitemid\u001b[0m \u001b[0;34m=\u001b[0m \u001b[0minnocence\u001b[0m\u001b[0;34m)\u001b[0m\u001b[0;34m\u001b[0m\u001b[0;34m\u001b[0m\u001b[0m\n\u001b[0;32m----> 2\u001b[0;31m \u001b[0;34m[\u001b[0m\u001b[0;34m(\u001b[0m\u001b[0midx_to_movie\u001b[0m\u001b[0;34m[\u001b[0m\u001b[0mi\u001b[0m\u001b[0;34m[\u001b[0m\u001b[0;36m0\u001b[0m\u001b[0;34m]\u001b[0m\u001b[0;34m]\u001b[0m\u001b[0;34m,\u001b[0m \u001b[0mi\u001b[0m\u001b[0;34m[\u001b[0m\u001b[0;36m1\u001b[0m\u001b[0;34m]\u001b[0m\u001b[0;34m)\u001b[0m \u001b[0;32mfor\u001b[0m \u001b[0mi\u001b[0m \u001b[0;32min\u001b[0m \u001b[0mexplain\u001b[0m\u001b[0;34m[\u001b[0m\u001b[0;36m1\u001b[0m\u001b[0;34m]\u001b[0m\u001b[0;34m]\u001b[0m\u001b[0;34m\u001b[0m\u001b[0;34m\u001b[0m\u001b[0m\n\u001b[0m",
      "\u001b[0;32m<ipython-input-453-01d71f613cb7>\u001b[0m in \u001b[0;36m<listcomp>\u001b[0;34m(.0)\u001b[0m\n\u001b[1;32m      1\u001b[0m \u001b[0mexplain\u001b[0m \u001b[0;34m=\u001b[0m \u001b[0mals_model\u001b[0m\u001b[0;34m.\u001b[0m\u001b[0mexplain\u001b[0m\u001b[0;34m(\u001b[0m\u001b[0myoung\u001b[0m\u001b[0;34m,\u001b[0m \u001b[0mcsr_data\u001b[0m\u001b[0;34m,\u001b[0m \u001b[0mitemid\u001b[0m \u001b[0;34m=\u001b[0m \u001b[0minnocence\u001b[0m\u001b[0;34m)\u001b[0m\u001b[0;34m\u001b[0m\u001b[0;34m\u001b[0m\u001b[0m\n\u001b[0;32m----> 2\u001b[0;31m \u001b[0;34m[\u001b[0m\u001b[0;34m(\u001b[0m\u001b[0midx_to_movie\u001b[0m\u001b[0;34m[\u001b[0m\u001b[0mi\u001b[0m\u001b[0;34m[\u001b[0m\u001b[0;36m0\u001b[0m\u001b[0;34m]\u001b[0m\u001b[0;34m]\u001b[0m\u001b[0;34m,\u001b[0m \u001b[0mi\u001b[0m\u001b[0;34m[\u001b[0m\u001b[0;36m1\u001b[0m\u001b[0;34m]\u001b[0m\u001b[0;34m)\u001b[0m \u001b[0;32mfor\u001b[0m \u001b[0mi\u001b[0m \u001b[0;32min\u001b[0m \u001b[0mexplain\u001b[0m\u001b[0;34m[\u001b[0m\u001b[0;36m1\u001b[0m\u001b[0;34m]\u001b[0m\u001b[0;34m]\u001b[0m\u001b[0;34m\u001b[0m\u001b[0;34m\u001b[0m\u001b[0m\n\u001b[0m",
      "\u001b[0;31mKeyError\u001b[0m: 3955"
     ]
    }
   ],
   "source": [
    "explain = als_model.explain(young, csr_data, itemid = innocence)\n",
    "[(idx_to_movie[i[0]], i[1]) for i in explain[1]]"
   ]
  },
  {
   "cell_type": "code",
   "execution_count": null,
   "metadata": {},
   "outputs": [],
   "source": []
  },
  {
   "cell_type": "code",
   "execution_count": null,
   "metadata": {},
   "outputs": [],
   "source": []
  },
  {
   "cell_type": "code",
   "execution_count": null,
   "metadata": {},
   "outputs": [],
   "source": []
  },
  {
   "cell_type": "code",
   "execution_count": null,
   "metadata": {},
   "outputs": [],
   "source": []
  }
 ],
 "metadata": {
  "kernelspec": {
   "display_name": "aiffel",
   "language": "python",
   "name": "aiffel"
  },
  "language_info": {
   "codemirror_mode": {
    "name": "ipython",
    "version": 3
   },
   "file_extension": ".py",
   "mimetype": "text/x-python",
   "name": "python",
   "nbconvert_exporter": "python",
   "pygments_lexer": "ipython3",
   "version": "3.7.9"
  }
 },
 "nbformat": 4,
 "nbformat_minor": 4
}
